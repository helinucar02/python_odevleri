{
 "cells": [
  {
   "cell_type": "code",
   "execution_count": 68,
   "id": "2d3df28e-725c-489c-9404-f650514dc87e",
   "metadata": {},
   "outputs": [],
   "source": [
    " # Başta verilen sorular Medium hesabımdaki Liste makaleme eklediğim sorularımdır.\n",
    " # Son \"6 soruda\" Acunmedya Akademi eğitimimin bu hafta verilen ödevidir."
   ]
  },
  {
   "cell_type": "code",
   "execution_count": 61,
   "id": "fd32d235-4a2f-441e-835d-b3ff5ff1d95d",
   "metadata": {},
   "outputs": [
    {
     "name": "stdout",
     "output_type": "stream",
     "text": [
      "ayva-erik\n",
      "['a', 2]\n"
     ]
    }
   ],
   "source": [
    " meyve =\"erik\"\n",
    " meyve = \"ayva-\" +meyve[0:]\n",
    " print(meyve)\n",
    " liste=['a','b']\n",
    " liste[1]=2\n",
    " print(liste)"
   ]
  },
  {
   "cell_type": "code",
   "execution_count": 5,
   "id": "71764212-59fc-40fe-b183-cda6d4d4d3a9",
   "metadata": {},
   "outputs": [
    {
     "name": "stdout",
     "output_type": "stream",
     "text": [
      "['a', 'b', 'c', 'd', 'e', 'f']\n"
     ]
    }
   ],
   "source": [
    " #liste1 adında bir liste tanımladık. İçine verileri girdik\n",
    " #bu verileri ekrana yazdırdık\n",
    " liste1 = ['a','b','c','d','e','f']\n",
    " print(liste1)"
   ]
  },
  {
   "cell_type": "code",
   "execution_count": 23,
   "id": "266825fe-e7e1-49b7-a441-0d6f1147fbad",
   "metadata": {},
   "outputs": [
    {
     "name": "stdout",
     "output_type": "stream",
     "text": [
      "birinici veri\n",
      "beşinci veri\n",
      "['birinici veri', 'ikinci veri', 'üçüncü veri ', 'dördüncü veri', 'beşinci veri']\n",
      "['birinici veri', 'ikinci veri', 'üçüncü veri ', 'dördüncü veri', 'beşinci veri']\n",
      "['birinici veri', 'üçüncü veri ', 'beşinci veri']\n",
      "üçüncü veri \n",
      "['beşinci veri', 'dördüncü veri', 'üçüncü veri ', 'ikinci veri', 'birinici veri']\n"
     ]
    }
   ],
   "source": [
    " liste=[\"birinici veri\",\"ikinci veri\",\"üçüncü veri \",\"dördüncü veri\",\"beşinci veri\"]\n",
    " #beş elemenlı listenin ilk verisi\n",
    " print(liste[0])\n",
    " #beş elemenlı listenin son verisi\n",
    " print(liste[4])\n",
    " print(liste[:5])\n",
    " print(liste[0:])\n",
    " print(liste[::2])\n",
    " print( liste [- 3 ]) #sondan üçüncü ögeyi listeler\n",
    " print(liste[::-1]) #sondan başa doğru listeleme yapmak için kullanılır"
   ]
  },
  {
   "cell_type": "code",
   "execution_count": 19,
   "id": "78e1134e-d3bd-47bc-a40f-890e7294aa45",
   "metadata": {},
   "outputs": [
    {
     "name": "stdout",
     "output_type": "stream",
     "text": [
      "Bu değer listede var.\n"
     ]
    }
   ],
   "source": [
    " # Liste içindeki ögeleri kontrol edilebilir. Eşya adında bir liste var. Liste tanımlanır, \n",
    " #daha sonra if karar yapısı ile içindeki ögeler de “perde” olup olmadığı kontrol edilir.\n",
    " esya = [\"ayna\", \"televizyon\", \"perde\"]\n",
    " if(\"perde\" in esya):\n",
    "     print(\"Bu değer listede var.\")\n",
    " else:\n",
    "     print(\"Bu değer listede yok\")"
   ]
  },
  {
   "cell_type": "code",
   "execution_count": 25,
   "id": "81654aa8-56d3-4273-93c6-6c50c4d03670",
   "metadata": {},
   "outputs": [
    {
     "name": "stdout",
     "output_type": "stream",
     "text": [
      "['gs', 'fb', 'bjk', 'ts']\n"
     ]
    }
   ],
   "source": [
    " takimlar=[\"gs\",\"fb\",\"bjk\"]\n",
    " takimlar.append(\"ts\")\n",
    " print(takimlar)"
   ]
  },
  {
   "cell_type": "code",
   "execution_count": 27,
   "id": "5d77e158-efcb-4124-ac33-28825f120d55",
   "metadata": {},
   "outputs": [
    {
     "name": "stdout",
     "output_type": "stream",
     "text": [
      "['lahana', 'marul', 'patlıcan', 'pırasa', 'ıspanak', 'fasulye']\n"
     ]
    }
   ],
   "source": [
    " sebzeler =[\"lahana\",\"marul\",\"pırasa\",\"ıspanak\",\"fasulye\"]\n",
    " sebzeler.insert(2,\"patlıcan\")\n",
    " print(sebzeler)"
   ]
  },
  {
   "cell_type": "code",
   "execution_count": 31,
   "id": "9987535f-a0ea-4f01-a93c-2e61fd9a1e24",
   "metadata": {},
   "outputs": [
    {
     "name": "stdout",
     "output_type": "stream",
     "text": [
      "['konya', 'adiyaman', 'diyarbakir', 'mardin', 'gaziantep']\n"
     ]
    }
   ],
   "source": [
    " iller1 =[\"konya\",\"adiyaman\",\"diyarbakir\",\"mardin\",\"gaziantep\"]\n",
    " iller2=[]\n",
    " iller2 = iller1.copy()\n",
    " print(iller2)"
   ]
  },
  {
   "cell_type": "code",
   "execution_count": 33,
   "id": "de5f475c-053e-41a0-84ff-38a469e73d5a",
   "metadata": {},
   "outputs": [
    {
     "name": "stdout",
     "output_type": "stream",
     "text": [
      "1\n"
     ]
    }
   ],
   "source": [
    " takimlar = ['GS','FB','BJK','TS']\n",
    " print(takimlar.count('FB'))"
   ]
  },
  {
   "cell_type": "code",
   "execution_count": 37,
   "id": "122bcedd-b661-43e8-9d29-749890393b36",
   "metadata": {},
   "outputs": [
    {
     "name": "stdout",
     "output_type": "stream",
     "text": [
      "['bıldırcın', 'papağan', 'kartal', 'akbaba', 'şahin', 'baykuş', 'muhabbet']\n"
     ]
    }
   ],
   "source": [
    " # listelerdeki ögelerin kendi elemanlarını koruyarak genişletme işlemi yapılmıştır.\n",
    " kus1=[\"bıldırcın\",\"papağan\",\"kartal\",\"akbaba\",\"şahin\"]\n",
    " kus2=[\"baykuş\",\"muhabbet\"]\n",
    " kus1.extend(kus2)\n",
    " print(kus1)"
   ]
  },
  {
   "cell_type": "code",
   "execution_count": 41,
   "id": "c2d5428c-62b4-4fb9-bb45-bc671aa6cb05",
   "metadata": {},
   "outputs": [
    {
     "name": "stdout",
     "output_type": "stream",
     "text": [
      "[]\n"
     ]
    }
   ],
   "source": [
    " liste =[\"ayva\",\"nar\",\"kiraz\",\"kayısı\",\"Üzüm\"]\n",
    " liste.clear()\n",
    " print(liste)"
   ]
  },
  {
   "cell_type": "code",
   "execution_count": 47,
   "id": "8c414d60-1e1c-4378-936d-9d9a599c6279",
   "metadata": {},
   "outputs": [
    {
     "name": "stdout",
     "output_type": "stream",
     "text": [
      "['adiyaman', 'diyarbakir', 'mardin', 'gaziantep']\n"
     ]
    }
   ],
   "source": [
    " sehirler =[\"konya\",\"adiyaman\",\"diyarbakir\",\"mardin\",\"gaziantep\"]\n",
    " sehirler.remove(\"konya\")\n",
    " print(sehirler)"
   ]
  },
  {
   "cell_type": "code",
   "execution_count": 49,
   "id": "c5964a92-3752-444c-bbd6-1000349c1a70",
   "metadata": {},
   "outputs": [
    {
     "name": "stdout",
     "output_type": "stream",
     "text": [
      "[70, 60, 50, 40, 30, 20, 10]\n"
     ]
    }
   ],
   "source": [
    " sayilar=[10,20,30,40,50,60,70]\n",
    " sayilar.reverse()\n",
    " print(sayilar)"
   ]
  },
  {
   "cell_type": "code",
   "execution_count": 51,
   "id": "a18a0335-a591-4061-9a6a-852177df1b43",
   "metadata": {},
   "outputs": [
    {
     "name": "stdout",
     "output_type": "stream",
     "text": [
      "['ayşe', 'elif', 'hafsa', 'kaan', 'kemal']\n"
     ]
    }
   ],
   "source": [
    " isimler=[\"elif\",\"ayşe\",\"kemal\",\"kaan\",\"hafsa\"]\n",
    " isimler.sort()\n",
    " print(isimler)"
   ]
  },
  {
   "cell_type": "code",
   "execution_count": 53,
   "id": "b8f79d0d-5fa8-4140-a24e-f6e3553f7ac4",
   "metadata": {},
   "outputs": [
    {
     "name": "stdout",
     "output_type": "stream",
     "text": [
      "[10, 20, 30, 40, 50, 60, 70]\n"
     ]
    }
   ],
   "source": [
    " sayilar=[10,20,30,40,50,60,70]\n",
    " sayilar.sort()\n",
    " print(sayilar)"
   ]
  },
  {
   "cell_type": "code",
   "execution_count": 55,
   "id": "dbd95342-d6e0-4fe2-9d77-0a96790aec10",
   "metadata": {},
   "outputs": [
    {
     "name": "stdout",
     "output_type": "stream",
     "text": [
      "['GS', 'FB', 'TS']\n"
     ]
    }
   ],
   "source": [
    " takimlar = ['GS','FB','BJK','TS']\n",
    " del takimlar[2]\n",
    " print(takimlar)"
   ]
  },
  {
   "cell_type": "code",
   "execution_count": 57,
   "id": "07902d7e-03dd-4d52-91ff-ac6774d16de6",
   "metadata": {},
   "outputs": [
    {
     "name": "stdout",
     "output_type": "stream",
     "text": [
      "İlk liste uzunlugu            :  4\n",
      "İkinci listenin uzunluğu :  3\n"
     ]
    }
   ],
   "source": [
    " liste1, liste2 = ['abc',56,74 ,'python'], [12, 'opencv','a']\n",
    " print (\"İlk liste uzunlugu            : \", len(liste1))\n",
    " print( \"İkinci listenin uzunluğu : \", len(liste2))"
   ]
  },
  {
   "cell_type": "code",
   "execution_count": 61,
   "id": "515b0122-bcf2-4c29-8a95-9a12edb2e56c",
   "metadata": {},
   "outputs": [
    {
     "name": "stdout",
     "output_type": "stream",
     "text": [
      "[[1, 2, 3], ['a', 'b', 'c'], [40, 50, 60]]\n",
      "a 50\n"
     ]
    }
   ],
   "source": [
    " # 3 Adet liste oluşturalım.\n",
    " birinci_liste = [1,2,3]\n",
    " ikinci_liste = ['a','b','c']\n",
    " ucuncu_liste= [40,50,60]\n",
    " son_liste= [birinci_liste,ikinci_liste,ucuncu_liste]\n",
    " print(son_liste)\n",
    " print(son_liste[1][0],son_liste[2][1])"
   ]
  },
  {
   "cell_type": "code",
   "execution_count": 63,
   "id": "d3ba2d2e-90a9-420a-88d4-f8fc20588df1",
   "metadata": {},
   "outputs": [
    {
     "name": "stdout",
     "output_type": "stream",
     "text": [
      "[1, 2, 3, 4, 5, 'ankara']\n",
      "['kocaeli', 2, 1.5, 4, 5, 20]\n"
     ]
    }
   ],
   "source": [
    " liste=[1,2,3,4,5,'ankara']\n",
    " print(liste)\n",
    " liste[0]=str(\"kocaeli\")\n",
    " liste[2]=float(1.5)\n",
    " liste[5]=int(20)\n",
    " print(liste)"
   ]
  },
  {
   "cell_type": "code",
   "execution_count": 65,
   "id": "46dae4a3-bf32-4032-a900-fc2d507e83ca",
   "metadata": {},
   "outputs": [
    {
     "name": "stdout",
     "output_type": "stream",
     "text": [
      "[1, 3, 5, 7, 9, 11, 13]\n",
      "[1, 3, 5, 7, 9, 11, 13]\n",
      "[13, 11, 9, 7, 5, 3, 1]\n"
     ]
    }
   ],
   "source": [
    " liste=list(range(1,15,2))\n",
    " print(liste)\n",
    " liste.sort()\n",
    " print(liste)\n",
    " liste.reverse()\n",
    " print(liste)"
   ]
  },
  {
   "cell_type": "code",
   "execution_count": 72,
   "id": "03db88e0-8312-4097-9758-d68c19d15992",
   "metadata": {},
   "outputs": [
    {
     "name": "stdout",
     "output_type": "stream",
     "text": [
      "cümlenizde  5 adet kelime vardır\n"
     ]
    }
   ],
   "source": [
    " cumle=\"23 nisan herkese mutlu olsun\"\n",
    " kelimeler=cumle.split(\" \")\n",
    " print(\"cümlenizde \",len(kelimeler),\"adet kelime vardır\")"
   ]
  },
  {
   "cell_type": "code",
   "execution_count": 74,
   "id": "7f1fccad-83d7-4088-a0e1-6d72865db3ec",
   "metadata": {},
   "outputs": [
    {
     "name": "stdin",
     "output_type": "stream",
     "text": [
      "bilgilerinizi araya virgül koyarak yazınız:  ayşe,helin,kader,mısra\n"
     ]
    },
    {
     "name": "stdout",
     "output_type": "stream",
     "text": [
      "['ayşe', 'helin', 'kader', 'mısra']\n"
     ]
    }
   ],
   "source": [
    " bilgi=input(\"bilgilerinizi araya virgül koyarak yazınız: \")\n",
    " liste=bilgi.split(\",\")\n",
    " print(liste)"
   ]
  },
  {
   "cell_type": "code",
   "execution_count": 57,
   "id": "dcde8d4e-9907-4755-9dc5-1a6b56b8aafa",
   "metadata": {},
   "outputs": [
    {
     "name": "stdout",
     "output_type": "stream",
     "text": [
      "['elma', 'muz', 'çilek', 'portakal', 'kiraz']\n"
     ]
    },
    {
     "name": "stdin",
     "output_type": "stream",
     "text": [
      "Listeye eklemek istediğiniz meyveyi yazın: nar\n"
     ]
    },
    {
     "name": "stdout",
     "output_type": "stream",
     "text": [
      "['elma', 'muz', 'çilek', 'portakal', 'kiraz', 'nar']\n"
     ]
    }
   ],
   "source": [
    "meyveler=[\"elma\", \"muz\", \"çilek\", \"portakal\"] \n",
    "meyveler.append( \"kiraz\" ) # listeye \"kiraz\" ekleme\n",
    "print(meyveler)\n",
    "meyve=input(\"Listeye eklemek istediğiniz meyveyi yazın:\")\n",
    "meyveler.append(meyve) #eklemek istediğimiz meyveyi listeye ekler\n",
    "print(meyveler)        # listenin son halini yazdırır\n"
   ]
  },
  {
   "cell_type": "code",
   "execution_count": 59,
   "id": "b56a28bb-b6da-42f5-be9a-0a35224504f5",
   "metadata": {},
   "outputs": [
    {
     "name": "stdout",
     "output_type": "stream",
     "text": [
      "[10, 20, 30, 40, 50]\n"
     ]
    },
    {
     "name": "stdin",
     "output_type": "stream",
     "text": [
      "Listeye eklemek istediğiniz sayiyi yazın: 78\n",
      "Sayiyi eklemek istediğiniz index değerini yazın : 2\n"
     ]
    },
    {
     "name": "stdout",
     "output_type": "stream",
     "text": [
      "[10, 20, 78, 30, 40, 50]\n"
     ]
    }
   ],
   "source": [
    "sayilar = [10, 20, 30, 50] \n",
    "sayilar.insert(3,40)  #Listenin 3. indisini 40 sayısını ekler\n",
    "print(sayilar)\n",
    "sayi=int(input(\"Listeye eklemek istediğiniz sayiyi yazın:\"))\n",
    "index=int(input(\"Sayiyi eklemek istediğiniz index değerini yazın :\"))\n",
    "sayilar.insert(index,sayi)  # eklemek istenilen kullanıcının verdiği index değerine yazdırır .\n",
    "print(sayilar)\n"
   ]
  },
  {
   "cell_type": "code",
   "execution_count": 30,
   "id": "a5743337-0f5b-4430-af75-113a1f7c03f9",
   "metadata": {},
   "outputs": [
    {
     "name": "stdout",
     "output_type": "stream",
     "text": [
      "['Ali', 'Mehmet', 'Zeynep', 'Ayşe']\n"
     ]
    },
    {
     "name": "stdin",
     "output_type": "stream",
     "text": [
      "Listede bulunan silmek istediğiniz ismi yazın: Ali\n"
     ]
    },
    {
     "name": "stdout",
     "output_type": "stream",
     "text": [
      "['Mehmet', 'Zeynep', 'Ayşe']\n"
     ]
    }
   ],
   "source": [
    "isimler = [\"Ali\", \"Ayşe\", \"Mehmet\", \"Zeynep\", \"Ayşe\"] \n",
    "isimler.remove(\"Ayşe\")  #listeden \"Ayşe\" ismini siler\n",
    "print(isimler)\n",
    "yeni_isim=input(\"Listede bulunan silmek istediğiniz ismi yazın:\")\n",
    "isimler.remove(yeni_isim)  # listede kullanıcının silmek istediği ismi siler\n",
    "print(isimler)"
   ]
  },
  {
   "cell_type": "code",
   "execution_count": 37,
   "id": "0e288176-142d-42f3-9773-ebb11c96053d",
   "metadata": {},
   "outputs": [
    {
     "name": "stdout",
     "output_type": "stream",
     "text": [
      "[5, 10, 15, 20]\n"
     ]
    },
    {
     "name": "stdin",
     "output_type": "stream",
     "text": [
      "Silmekk  istediğiniz sayının index değerini yazın : 3\n"
     ]
    },
    {
     "name": "stdout",
     "output_type": "stream",
     "text": [
      "[5, 10, 15, 25]\n"
     ]
    }
   ],
   "source": [
    "rakamlar = [5, 10, 15, 20, 25] \n",
    "rakamlar.pop(len(rakamlar)-1)  #Listenin son indisine sahip sayıyı siler\n",
    "print(rakamlar)\n",
    "rakamlar = [5, 10, 15, 20, 25] \n",
    "index=int(input(\"Silmekk  istediğiniz sayının index değerini yazın :\"))\n",
    "rakamlar.pop(index)  #kullanıcının  istediği indexteki  sayıyı siler\n",
    "print(rakamlar)"
   ]
  },
  {
   "cell_type": "code",
   "execution_count": 51,
   "id": "fee6bd9d-3b32-4bd6-8d1a-894810e7cf00",
   "metadata": {},
   "outputs": [
    {
     "name": "stdout",
     "output_type": "stream",
     "text": [
      "Ters çevrilmiş hali: ['e', 'd', 'c', 'b', 'a']\n"
     ]
    },
    {
     "name": "stdin",
     "output_type": "stream",
     "text": [
      "Liste elemanlarını aralarında boşluk bırakarak girin:  : 1 2 3 4 5 6\n"
     ]
    },
    {
     "name": "stdout",
     "output_type": "stream",
     "text": [
      "Kullanıcı listesi: ['1', '2', '3', '4', '5', '6']\n",
      "Ters çevrilmiş hali: ['6', '5', '4', '3', '2', '1']\n"
     ]
    }
   ],
   "source": [
    "harfler = [\"a\", \"b\", \"c\", \"d\", \"e\"] \n",
    "harfler.reverse() #Verilen harfler listesibni ters çevirir\n",
    "print(\"Ters çevrilmiş hali:\",harfler)\n",
    "kullanici_listesi=input(\"Liste elemanlarını aralarında boşluk bırakarak girin:  :\").split() # split() fonksiyonu verilen verileri listeye çevirir.\n",
    "print(\"Kullanıcı listesi:\",kullanici_listesi)\n",
    "kullanici_listesi.reverse()  # kullsnıcının verdiği listeyi ters çevirir.\n",
    "print(\"Ters çevrilmiş hali:\",kullanici_listesi)"
   ]
  },
  {
   "cell_type": "code",
   "execution_count": 55,
   "id": "523efc99-0e12-44e4-ae58-10b9d10881d5",
   "metadata": {},
   "outputs": [
    {
     "name": "stdout",
     "output_type": "stream",
     "text": [
      "Renkler listesinin son hali: []\n"
     ]
    }
   ],
   "source": [
    "renkler = [\"kırmızı\", \"mavi\", \"yeşil\", \"sarı\"] \n",
    "renkler.clear()  # Verilen listeyi tamamen siler.\n",
    "print(\"Renkler listesinin son hali:\",renkler)"
   ]
  },
  {
   "cell_type": "code",
   "execution_count": null,
   "id": "8a031275-1c32-46d3-b9bc-93825050f8ac",
   "metadata": {},
   "outputs": [],
   "source": []
  }
 ],
 "metadata": {
  "kernelspec": {
   "display_name": "Python [conda env:base] *",
   "language": "python",
   "name": "conda-base-py"
  },
  "language_info": {
   "codemirror_mode": {
    "name": "ipython",
    "version": 3
   },
   "file_extension": ".py",
   "mimetype": "text/x-python",
   "name": "python",
   "nbconvert_exporter": "python",
   "pygments_lexer": "ipython3",
   "version": "3.12.7"
  }
 },
 "nbformat": 4,
 "nbformat_minor": 5
}
