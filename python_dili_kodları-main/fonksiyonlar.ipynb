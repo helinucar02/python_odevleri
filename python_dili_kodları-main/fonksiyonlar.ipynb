{
 "cells": [
  {
   "cell_type": "code",
   "execution_count": 7,
   "id": "bd8357e1-ecfd-4e1a-8b44-0d3368141026",
   "metadata": {},
   "outputs": [
    {
     "name": "stdout",
     "output_type": "stream",
     "text": [
      " Merhaba,Python!\n"
     ]
    }
   ],
   "source": [
    "#Bir merhaba_de adında fonksiyon yazın. Bu fonksiyon, ekrana \"Merhaba, Python!\" yazdırmalıdır. \n",
    "def merhaba_de(name):\n",
    "    print (f' Merhaba,{name}')\n",
    "merhaba_de ('Python!')"
   ]
  },
  {
   "cell_type": "code",
   "execution_count": 11,
   "id": "f9731d46-6072-4c6a-8eff-126b05f987f8",
   "metadata": {},
   "outputs": [
    {
     "name": "stdout",
     "output_type": "stream",
     "text": [
      "Tam adı:Helin Uçar\n"
     ]
    }
   ],
   "source": [
    "#Bir fonksiyon oluşturun. Bu fonksiyon, isim ve soyisim olmak \n",
    "#üzere iki parametre alsın ve ekrana tam adınızı yazdırsın. \n",
    "def tam_ad(isim,soyisim):\n",
    "    print(f'Tam adı:{isim+soyisim}')\n",
    "tam_ad('Helin ','Uçar')"
   ]
  },
  {
   "cell_type": "code",
   "execution_count": 10,
   "id": "e8669d08-76d9-4fcc-9cb0-202bf269122e",
   "metadata": {},
   "outputs": [
    {
     "name": "stdout",
     "output_type": "stream",
     "text": [
      "Sayilar listesindeki tek sayilar:\n",
      "15\n",
      "25\n",
      "35\n"
     ]
    }
   ],
   "source": [
    "\"\"\"Aşağıdaki liste içindeki tek sayıları bulan bir fonksiyon yazın. \n",
    "sayilar = [10, 15, 20, 25, 30, 35]\"\"\"\n",
    "def tek_sayilar(sayi):\n",
    "    print(\"Sayilar listesindeki tek sayilar:\")\n",
    "    for sayi in sayilar: \n",
    "      if sayi%2==1:\n",
    "        print(sayi)\n",
    "sayilar = [10, 15, 20, 25, 30, 35]\n",
    "tek_sayilar(sayilar)"
   ]
  },
  {
   "cell_type": "code",
   "execution_count": 30,
   "id": "0ab00150-3e44-441b-a805-9dd7e0c90f97",
   "metadata": {},
   "outputs": [
    {
     "name": "stdout",
     "output_type": "stream",
     "text": [
      "Toplama sonucu:35\n",
      "Çıkarma sonucu:-5\n",
      "Çarpma sonucu:300\n",
      "Mod alma sonucu:15\n",
      "Bölme sonucu:0.75\n"
     ]
    }
   ],
   "source": [
    "def toplama (s1,s2):\n",
    "    return s1+s2\n",
    "def cikarma(s1,s2):\n",
    "    return s1-s2\n",
    "def carpma(s1,s2):\n",
    "    return s1*s2\n",
    "def mod_alma(s1,s2):\n",
    "    return s1%s2\n",
    "def bolme(s1,s2):\n",
    "    if s2==0 :\n",
    "        return \"Bölen kısım 0 olamaz\"\n",
    "    return s1/s2 \n",
    "def hesap_makinesi(s1,s2):\n",
    "    print(f'Toplama sonucu:{toplama(s1,s2)}')\n",
    "    print(f'Çıkarma sonucu:{cikarma(s1,s2)}')\n",
    "    print(f'Çarpma sonucu:{carpma(s1,s2)}')\n",
    "    print(f'Mod alma sonucu:{mod_alma(s1,s2)}')\n",
    "    print(f'Bölme sonucu:{bolme(s1,s2)}')\n",
    "\n",
    "hesap_makinesi(15,20)\n",
    "    "
   ]
  },
  {
   "cell_type": "code",
   "execution_count": 36,
   "id": "06c46395-9cc5-4636-8cd1-40ce6cf17a64",
   "metadata": {},
   "outputs": [
    {
     "name": "stdout",
     "output_type": "stream",
     "text": [
      "İşlem: ters, Sonuç: abahreM\n",
      "İşlem: buyuk, Sonuç: MERHABA\n",
      "İşlem: kucuk, Sonuç: merhaba\n",
      "İşlem: uzunluk, Sonuç: 7\n"
     ]
    }
   ],
   "source": [
    "#ters çevirme= sayilar.reverse\n",
    "#len()sayilar \n",
    "def islem_tipi(metin,islem):\n",
    "    match islem :\n",
    "        case \"ters\":\n",
    "            return metin[::-1] \n",
    "        case \"buyuk\":\n",
    "            return metin.upper()\n",
    "        case \"kucuk\":\n",
    "            return metin.lower()\n",
    "        case \"uzunluk\":\n",
    "            return len(metin)\n",
    "        case _:\n",
    "            return \"Geçersiz işlem.\"\n",
    "metin = \"Merhaba\"\n",
    "for islem in [\"ters\", \"buyuk\", \"kucuk\", \"uzunluk\"]:\n",
    "    print(f'İşlem: {islem}, Sonuç: {islem_tipi(metin, islem)}')\n",
    "\n",
    "\n",
    "    "
   ]
  },
  {
   "cell_type": "code",
   "execution_count": 40,
   "id": "c0f9bca7-1663-4de8-a179-0a52ff5a6580",
   "metadata": {},
   "outputs": [
    {
     "name": "stdout",
     "output_type": "stream",
     "text": [
      "['ALI', 'AYŞE', 'MEHMET', 'ZEYNEP']\n"
     ]
    }
   ],
   "source": [
    "def isim_ekle(*args):\n",
    "    isimler = []  # İsimleri saklamak için boş liste\n",
    "    for isim in args:\n",
    "        isimler.append(isim.upper())  # Her ismi büyük harfe çevirip listeye ekle\n",
    "    return isimler  # Listeyi döndür\n",
    "\n",
    "isim_listesi = isim_ekle(\"Ali\", \"Ayşe\", \"Mehmet\", \"Zeynep\")\n",
    "print(isim_listesi)\n"
   ]
  },
  {
   "cell_type": "code",
   "execution_count": 42,
   "id": "4b19d9ca-502e-4fd1-9390-5339b64593b7",
   "metadata": {},
   "outputs": [
    {
     "name": "stdout",
     "output_type": "stream",
     "text": [
      "Cümle kısa\n",
      "Cümle uzun\n"
     ]
    }
   ],
   "source": [
    "def kelime_sayisi(metin):\n",
    "    # Metni boşluklardan ayırarak kelimeleri elde et ve sayısını döndür\n",
    "    kelimeler = metin.split()  # .split() boşluklara göre ayırır\n",
    "    return len(kelimeler)  # Kelimelerin sayısını döndür\n",
    "\n",
    "def cumle_analiz(metin):\n",
    "    # kelime_sayisi fonksiyonunu kullanarak kelime sayısını hesapla\n",
    "    kelime_sayi = kelime_sayisi(metin)\n",
    "    \n",
    "    # Eğer kelime sayısı 5 veya daha fazla ise \"Cümle uzun\", aksi takdirde \"Cümle kısa\"\n",
    "    if kelime_sayi >= 5:\n",
    "        return \"Cümle uzun\"\n",
    "    else:\n",
    "        return \"Cümle kısa\"\n",
    "\n",
    "metin1 = \"Bu kısa bir cümledir.\"\n",
    "metin2 = \"Python çok güçlü bir programlama dilidir ve çok geniş bir ekosisteme sahiptir.\"\n",
    "\n",
    "print(cumle_analiz(metin1))  # Cümle kısa\n",
    "print(cumle_analiz(metin2))  # Cümle uzun\n"
   ]
  },
  {
   "cell_type": "code",
   "execution_count": null,
   "id": "03cd4765-a670-4703-b4df-2c7e1cb1b2d4",
   "metadata": {},
   "outputs": [],
   "source": []
  }
 ],
 "metadata": {
  "kernelspec": {
   "display_name": "Python [conda env:base] *",
   "language": "python",
   "name": "conda-base-py"
  },
  "language_info": {
   "codemirror_mode": {
    "name": "ipython",
    "version": 3
   },
   "file_extension": ".py",
   "mimetype": "text/x-python",
   "name": "python",
   "nbconvert_exporter": "python",
   "pygments_lexer": "ipython3",
   "version": "3.12.7"
  }
 },
 "nbformat": 4,
 "nbformat_minor": 5
}
