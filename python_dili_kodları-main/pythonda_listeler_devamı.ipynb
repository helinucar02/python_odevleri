{
 "cells": [
  {
   "cell_type": "code",
   "execution_count": 3,
   "id": "32581658-57c1-4578-a10e-c350c4e47a2c",
   "metadata": {},
   "outputs": [
    {
     "name": "stdout",
     "output_type": "stream",
     "text": [
      "Listenin Uzunluğu :   5 Listenin Son hali :  ['elma', 'armut', 'çilek', 'kiraz', 'portakal']\n"
     ]
    }
   ],
   "source": [
    "meyveler = [\"elma\", \"muz\", \"çilek\", \"kiraz\"] \n",
    "meyveler.append('portakal')\n",
    "meyveler.insert(2,'armut')\n",
    "meyveler.remove('muz')\n",
    "print(\"Listenin Uzunluğu :  \",len(meyveler),\"Listenin Son hali : \",meyveler)"
   ]
  },
  {
   "cell_type": "code",
   "execution_count": 7,
   "id": "65bd6740-6147-4d43-a713-1fac33247424",
   "metadata": {},
   "outputs": [
    {
     "name": "stdout",
     "output_type": "stream",
     "text": [
      "En büyük  sayi:  31 Listedeki en küçük sayi:  5\n"
     ]
    }
   ],
   "source": [
    "sayilar = [15, 8, 22, 31, 5, 10] \n",
    "print(\"En büyük  sayi: \",max(sayilar), \"Listedeki en küçük sayi: \",min(sayilar))\n"
   ]
  },
  {
   "cell_type": "code",
   "execution_count": 33,
   "id": "b2447553-e9ac-4318-b540-a71e2740537e",
   "metadata": {},
   "outputs": [
    {
     "name": "stdout",
     "output_type": "stream",
     "text": [
      "[10, 20, 30, 40, 50]\n",
      "[80, 90, 100]\n",
      "[40, 50, 60, 70]\n"
     ]
    }
   ],
   "source": [
    "Sayilar2 = [10, 20, 30, 40, 50, 60, 70, 80, 90, 100]\n",
    "#İlk 5 elemanı içeren yeni bir liste oluşturun ve yazdırın. \n",
    "Yeniliste1=Sayilar2[:5]\n",
    "print(Yeniliste1)\n",
    "#Son 3 elemanı içeren yeni bir liste oluşturun ve yazdırın.\n",
    "Yeniliste2=Sayilar2[-3:]\n",
    "print(Yeniliste2)\n",
    "#3. ve 7. indexler arasındaki elemanları içeren yeni bir liste oluşturun ve yazdırın.\n",
    "Yeniliste3=Sayilar2[3:7]\n",
    "print(Yeniliste3)"
   ]
  },
  {
   "cell_type": "code",
   "execution_count": 51,
   "id": "0eb0cea8-9a5f-4ae3-ac18-864d1a7963ed",
   "metadata": {},
   "outputs": [
    {
     "name": "stdout",
     "output_type": "stream",
     "text": [
      "(0, 'Matematik')\n",
      "(1, 'Fizik')\n",
      "(2, 'Kimya')\n",
      "(3, 'Biyoloji')\n"
     ]
    }
   ],
   "source": [
    "dersler = [\"Matematik\", \"Fizik\", \"Kimya\", \"Biyoloji\"] \n",
    "# fonksiyonu kullanarak her elemanın sırasıyla birlikte ekrana yazdıran bir kod yazın. \n",
    "for ders in enumerate(dersler):\n",
    "    print(ders)"
   ]
  },
  {
   "cell_type": "code",
   "execution_count": 65,
   "id": "8ca41d60-313d-4a6d-9910-ba37a52a0bcb",
   "metadata": {},
   "outputs": [
    {
     "name": "stdout",
     "output_type": "stream",
     "text": [
      "{70, 40, 10, 50, 20, 60, 30}\n",
      "{40, 50, 30}\n",
      "{10, 20}\n",
      "{60, 70}\n"
     ]
    }
   ],
   "source": [
    "A = {10, 20, 30, 40, 50}   \n",
    "B = {30, 40, 50, 60, 70}  \n",
    "print(A.union(B)) #A ve B kümelerinin birleşimi\n",
    "print(A.intersection(B))# A ve B kümelerinin kesişimi\n",
    "print(A.difference(B))#A kümesinde olup B kümesinde olmayan elemanlar\n",
    "print(B.difference(A))#B kümesinde olup A kümesinde olmayan elemanlar"
   ]
  },
  {
   "cell_type": "code",
   "execution_count": 79,
   "id": "89df6c1a-7940-47e4-a1e2-63f328d4fbb8",
   "metadata": {},
   "outputs": [
    {
     "name": "stdout",
     "output_type": "stream",
     "text": [
      "(5, 10, 15)\n",
      "(30, 35)\n",
      "Veriler Tuple'nin uzunluğu:  7\n",
      "True\n"
     ]
    }
   ],
   "source": [
    "veriler = (5, 10, 15, 20, 25, 30, 35) \n",
    "# veriler tuple’ının ilk üç elemanını ekrana yazdırın. \n",
    "print(veriler[:3])\n",
    "# veriler tuple’ının son iki elemanını ekrana yazdırın.\n",
    "print(veriler[-2:])\n",
    "#veriler tuple’ının uzunluğunu bulun. \n",
    "print(\"Veriler Tuple'nin uzunluğu: \",len(veriler))\n",
    "#veriler içinde 20 sayısının olup olmadığını kontrol edin. \n",
    "print(20 in veriler)# 20 sayısı veriler tuple'ının içinde varsa true yazdırıcak."
   ]
  },
  {
   "cell_type": "code",
   "execution_count": 120,
   "id": "bc1ca7ac-5ded-496f-bec3-ac8e34a3e0d8",
   "metadata": {},
   "outputs": [
    {
     "name": "stdout",
     "output_type": "stream",
     "text": [
      "Sözlüğün yeni hali : {'isim': 'Ahmet', 'yas': 21, 'bolum': 'Bilgisayar Mühendisliği'}\n",
      "Sözlüğün son hali : {'isim': 'Ahmet', 'yas': 21, 'bolum': 'Bilgisayar Mühendisliği', 'okul': 'İTÜ'}\n",
      "Kişinin adı: Ahmet\n"
     ]
    }
   ],
   "source": [
    "ogrenci = {\"isim\": \"Ahmet\", \"yas\": 20, \"bolum\": \"Bilgisayar Mühendisliği\"}\n",
    "# \"yas\" değerini 21 olarak güncelleyin.\n",
    "ogrenci.update({'yas':21})\n",
    "print(\"Sözlüğün yeni hali :\",ogrenci)\n",
    "#  Sözlüğe \"okul\" anahtarını \"İTÜ\" değeri ile ekleyin.\n",
    "ogrenci.update({'okul':'İTÜ'})\n",
    "print(\"Sözlüğün son hali :\",ogrenci)\n",
    "# \"isim\" anahtarına karşılık gelen değeri ekrana yazdırın. \n",
    "print(f'Kişinin adı: {ogrenci['isim']}')"
   ]
  },
  {
   "cell_type": "code",
   "execution_count": 122,
   "id": "95573457-5602-4353-a031-b9c759f0d00c",
   "metadata": {},
   "outputs": [
    {
     "name": "stdout",
     "output_type": "stream",
     "text": [
      "Ali : 85\n",
      "Zeynep : 90\n",
      "Mehmet : 78\n",
      "Elif : 95\n"
     ]
    }
   ],
   "source": [
    "#Aşağıda verilen ders_notlari sözlüğündeki öğrencilerin isimlerini ve notlarını ekrana yazdıran bir Python kodu yazın.\n",
    "#ders_notlari = { \"Ali\": 85, \"Zeynep\": 90, \"Mehmet\": 78, \"Elif\": 95 }\n",
    "ders_notlari = { \"Ali\": 85, \"Zeynep\": 90, \"Mehmet\": 78, \"Elif\": 95 }\n",
    "for key,value in ders_notlari.items():\n",
    "    print(f'{key} : {value}')"
   ]
  },
  {
   "cell_type": "code",
   "execution_count": 150,
   "id": "6e2de329-8cec-462f-81ff-30ab2ed2527e",
   "metadata": {},
   "outputs": [
    {
     "name": "stdout",
     "output_type": "stream",
     "text": [
      "Genel yöntem:  ['İstanbul', 'İzmir']\n",
      "Lİst comprehension yöntemi :  ['İstanbul', 'İzmir']\n"
     ]
    }
   ],
   "source": [
    "sehirler=[ \"Ankara\", \"İstanbul\", \"İzmir\", \"Bursa\", \"Antalya\", \"Adana\", \"Trabzon\"]\n",
    "sehirler_İ_iceriyor = []\n",
    "\n",
    "# Şehirleri kontrol et ve listeye ekle\n",
    "for sehir in sehirler:\n",
    "    if \"İ\" in sehir :  # Doğru koşul\n",
    "        sehirler_İ_iceriyor.append(sehir)\n",
    "print(\"Genel yöntem: \",sehirler_İ_iceriyor)\n",
    "\n",
    "# 'İ' harfi içeren şehirleri filtreleme\n",
    "sehirler_İ_iceriyor = [sehir for sehir in sehirler if \"İ\" in sehir ]\n",
    "# Sonucu yazdırma\n",
    "print(\"Lİst comprehension yöntemi : \",sehirler_İ_iceriyor)"
   ]
  },
  {
   "cell_type": "code",
   "execution_count": 142,
   "id": "c9c86c66-4b8f-4a4e-8513-f82562c83cf8",
   "metadata": {},
   "outputs": [
    {
     "name": "stdout",
     "output_type": "stream",
     "text": [
      "[5, 10, 15, 20, 25, 30, 35, 40, 45, 50]\n"
     ]
    }
   ],
   "source": [
    "#1 ile 50 arasındaki sayıları içeren bir liste oluşturun. \n",
    "#Bu listenin sadece 5’e bölünebilen elemanlarını içeren yeni bir liste oluşturun (List Comprehension kullanarak).\n",
    "\n",
    "liste = list(range(1, 51))\n",
    "\n",
    "# Sadece 5’e bölünebilenleri içeren liste (List Comprehension ile)\n",
    "bolunen_sayilar = [i for i in liste if i % 5 == 0]\n",
    "\n",
    "print(bolunen_sayilar)"
   ]
  },
  {
   "cell_type": "code",
   "execution_count": null,
   "id": "59c6752f-de07-43ea-a82d-8d5d6129b9a5",
   "metadata": {},
   "outputs": [],
   "source": []
  }
 ],
 "metadata": {
  "kernelspec": {
   "display_name": "Python [conda env:base] *",
   "language": "python",
   "name": "conda-base-py"
  },
  "language_info": {
   "codemirror_mode": {
    "name": "ipython",
    "version": 3
   },
   "file_extension": ".py",
   "mimetype": "text/x-python",
   "name": "python",
   "nbconvert_exporter": "python",
   "pygments_lexer": "ipython3",
   "version": "3.12.7"
  }
 },
 "nbformat": 4,
 "nbformat_minor": 5
}
