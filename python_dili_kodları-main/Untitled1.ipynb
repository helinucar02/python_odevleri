{
 "cells": [
  {
   "cell_type": "code",
   "execution_count": 7,
   "id": "bd8357e1-ecfd-4e1a-8b44-0d3368141026",
   "metadata": {},
   "outputs": [
    {
     "name": "stdout",
     "output_type": "stream",
     "text": [
      " Merhaba,Python!\n"
     ]
    }
   ],
   "source": [
    "#Bir merhaba_de adında fonksiyon yazın. Bu fonksiyon, ekrana \"Merhaba, Python!\" yazdırmalıdır. \n",
    "def merhaba_de(name):\n",
    "    print (f' Merhaba,{name}')\n",
    "merhaba_de ('Python!')"
   ]
  },
  {
   "cell_type": "code",
   "execution_count": 11,
   "id": "f9731d46-6072-4c6a-8eff-126b05f987f8",
   "metadata": {},
   "outputs": [
    {
     "name": "stdout",
     "output_type": "stream",
     "text": [
      "Tam adı:Helin Uçar\n"
     ]
    }
   ],
   "source": [
    "#Bir fonksiyon oluşturun. Bu fonksiyon, isim ve soyisim olmak \n",
    "#üzere iki parametre alsın ve ekrana tam adınızı yazdırsın. \n",
    "def tam_ad(isim,soyisim):\n",
    "    print(f'Tam adı:{isim+soyisim}')\n",
    "tam_ad('Helin ','Uçar')"
   ]
  },
  {
   "cell_type": "code",
   "execution_count": 25,
   "id": "e8669d08-76d9-4fcc-9cb0-202bf269122e",
   "metadata": {},
   "outputs": [
    {
     "ename": "SyntaxError",
     "evalue": "invalid syntax (1256382322.py, line 3)",
     "output_type": "error",
     "traceback": [
      "\u001b[1;36m  Cell \u001b[1;32mIn[25], line 3\u001b[1;36m\u001b[0m\n\u001b[1;33m    list sayilar = [10, 15, 20, 25, 30, 35]\u001b[0m\n\u001b[1;37m         ^\u001b[0m\n\u001b[1;31mSyntaxError\u001b[0m\u001b[1;31m:\u001b[0m invalid syntax\n"
     ]
    }
   ],
   "source": [
    "\"\"\"Aşağıdaki liste içindeki tek sayıları bulan bir fonksiyon yazın. \n",
    "sayilar = [10, 15, 20, 25, 30, 35]\"\"\"\n",
    "list sayilar = [10, 15, 20, 25, 30, 35]\n",
    "def tek_sayilar(sayilar):\n",
    "    if sayilar%2==1:\n",
    "        print(f'Sayilar listesindeki tek sayilar: {sayilar}')\n",
    "tek_sayilar(sayilar)"
   ]
  },
  {
   "cell_type": "code",
   "execution_count": null,
   "id": "0ab00150-3e44-441b-a805-9dd7e0c90f97",
   "metadata": {},
   "outputs": [],
   "source": []
  }
 ],
 "metadata": {
  "kernelspec": {
   "display_name": "Python [conda env:base] *",
   "language": "python",
   "name": "conda-base-py"
  },
  "language_info": {
   "codemirror_mode": {
    "name": "ipython",
    "version": 3
   },
   "file_extension": ".py",
   "mimetype": "text/x-python",
   "name": "python",
   "nbconvert_exporter": "python",
   "pygments_lexer": "ipython3",
   "version": "3.12.7"
  }
 },
 "nbformat": 4,
 "nbformat_minor": 5
}
