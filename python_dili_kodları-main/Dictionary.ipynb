{
 "cells": [
  {
   "cell_type": "code",
   "execution_count": 2,
   "id": "def4a04f-b9aa-4f01-b9da-2b8ab8906db3",
   "metadata": {},
   "outputs": [
    {
     "name": "stdout",
     "output_type": "stream",
     "text": [
      "[1, 2, 3, 5, 8]\n"
     ]
    }
   ],
   "source": [
    "numaralar = [8, 3, 8, 1, 2, 3, 5, 5]\n",
    "benzersiz = list(set(numaralar))\n",
    "print(benzersiz)\n"
   ]
  },
  {
   "cell_type": "code",
   "execution_count": 4,
   "id": "ea26ace6-cc07-49cf-a329-be67525e5861",
   "metadata": {},
   "outputs": [
    {
     "name": "stdout",
     "output_type": "stream",
     "text": [
      "{'isim': 'Haruki', 'ülke': 'Japonya'}\n"
     ]
    }
   ],
   "source": [
    "sanatci = {\"isim\": \"Haruki\"}\n",
    "sanatci[\"ülke\"] = \"Japonya\"\n",
    "print(sanatci)\n"
   ]
  },
  {
   "cell_type": "code",
   "execution_count": 6,
   "id": "54f97b4b-003a-4c9a-8ff8-67c60cb2482d",
   "metadata": {},
   "outputs": [
    {
     "name": "stdin",
     "output_type": "stream",
     "text": [
      "Lütfen almak istediğiniz kitap adını girin:  Sefiller\n",
      "Kaç adet almak istiyorsunuz?:  3\n"
     ]
    },
    {
     "name": "stdout",
     "output_type": "stream",
     "text": [
      "Yetersiz stok.\n"
     ]
    }
   ],
   "source": [
    "kitap_stok = {\"1984\": 4, \"Sefiller\": 2, \"Martı\": 5}\n",
    "\n",
    "kitap_adi = input(\"Lütfen almak istediğiniz kitap adını girin: \")\n",
    "adet = int(input(\"Kaç adet almak istiyorsunuz?: \"))\n",
    "\n",
    "if kitap_adi in kitap_stok:\n",
    "    if kitap_stok[kitap_adi] >= adet:\n",
    "        print(\"Siparişiniz tamamlandı.\")\n",
    "        kitap_stok[kitap_adi] -= adet  # Stoğu güncelle\n",
    "    else:\n",
    "        print(\"Yetersiz stok.\")\n",
    "else:\n",
    "    print(\"Böyle bir kitap bulunmamaktadır.\")\n"
   ]
  },
  {
   "cell_type": "code",
   "execution_count": 8,
   "id": "3861cf80-665d-437c-a50a-311d07f70739",
   "metadata": {},
   "outputs": [
    {
     "data": {
      "text/plain": [
       "['Telefon', 'Laptop']"
      ]
     },
     "execution_count": 8,
     "metadata": {},
     "output_type": "execute_result"
    }
   ],
   "source": [
    "urunler = {\n",
    "    \"Telefon\": {\"yil\": 2019},\n",
    "    \"Televizyon\": {\"yil\": 2014},\n",
    "    \"Laptop\": {\"yil\": 2021}\n",
    "}\n",
    "\n",
    "# 2015 yılından sonra çıkmış ürünleri listeleyelim\n",
    "yeni_urunler = [urun for urun, bilgi in urunler.items() if bilgi[\"yil\"] > 2015]\n",
    "yeni_urunler"
   ]
  },
  {
   "cell_type": "code",
   "execution_count": 10,
   "id": "ee2443ef-b288-405d-a357-a6dd4416c1b9",
   "metadata": {},
   "outputs": [
    {
     "name": "stdout",
     "output_type": "stream",
     "text": [
      "{'isim': 'Nihan', 'hobiler': ['yoga', 'resim', 'yüzme']}\n"
     ]
    }
   ],
   "source": [
    "profil = {\n",
    "    \"isim\": \"Nihan\",\n",
    "    \"hobiler\": [\"yoga\", \"resim\"]\n",
    "}\n",
    "\n",
    "profil[\"hobiler\"].append(\"yüzme\")\n",
    "print(profil)\n"
   ]
  },
  {
   "cell_type": "code",
   "execution_count": 12,
   "id": "90109b8c-1191-4e30-8183-9e4144013941",
   "metadata": {},
   "outputs": [
    {
     "name": "stdout",
     "output_type": "stream",
     "text": [
      "ad: Veri Bilimi\n",
      "süre: 6 hafta\n",
      "seviye: Orta\n"
     ]
    }
   ],
   "source": [
    "kurs = {\n",
    "    \"ad\": \"Veri Bilimi\",\n",
    "    \"süre\": \"6 hafta\",\n",
    "    \"seviye\": \"Orta\"\n",
    "}\n",
    "\n",
    "for key, value in kurs.items():\n",
    "    print(f\"{key}: {value}\")\n"
   ]
  },
  {
   "cell_type": "code",
   "execution_count": 14,
   "id": "bad9e8c7-b5ed-4f86-8320-77291d87bf67",
   "metadata": {},
   "outputs": [
    {
     "name": "stdout",
     "output_type": "stream",
     "text": [
      "Ekin\n",
      "Deniz\n"
     ]
    }
   ],
   "source": [
    "notlar = {\n",
    "    \"Ekin\": 91,\n",
    "    \"Barış\": 76,\n",
    "    \"Deniz\": 88,\n",
    "    \"Umut\": 63\n",
    "}\n",
    "\n",
    "for ogrenci, puan in notlar.items():\n",
    "    if puan >= 85:\n",
    "        print(ogrenci)\n"
   ]
  },
  {
   "cell_type": "code",
   "execution_count": 16,
   "id": "a418ef92-0661-457d-85d1-92666778eb3f",
   "metadata": {},
   "outputs": [
    {
     "name": "stdin",
     "output_type": "stream",
     "text": [
      "Bir şehir adı girin:  Berlin\n"
     ]
    },
    {
     "name": "stdout",
     "output_type": "stream",
     "text": [
      "{'nüfus': 3600000}\n"
     ]
    }
   ],
   "source": [
    "sehir_bilgi = {\n",
    "    \"Berlin\": {\"nüfus\": 3_600_000},\n",
    "    \"Madrid\": {\"nüfus\": 3_200_000}\n",
    "}\n",
    "\n",
    "sehir_adi = input(\"Bir şehir adı girin: \")\n",
    "\n",
    "if sehir_adi in sehir_bilgi:\n",
    "    print(sehir_bilgi[sehir_adi])\n",
    "else:\n",
    "    print(\"Veri yok\")\n"
   ]
  },
  {
   "cell_type": "code",
   "execution_count": 18,
   "id": "f5fb4f95-d8ba-4c09-8902-7dfaec0bcdaa",
   "metadata": {},
   "outputs": [
    {
     "name": "stdout",
     "output_type": "stream",
     "text": [
      "{'masa': 1380.0, 'sandalye': 517.5, 'lamba': 345.0}\n"
     ]
    }
   ],
   "source": [
    "fiyatlar = {\n",
    "    \"masa\": 1200,\n",
    "    \"sandalye\": 450,\n",
    "    \"lamba\": 300\n",
    "}\n",
    "\n",
    "# %15 zam yaparak fiyatları güncelle\n",
    "for urun, fiyat in fiyatlar.items():\n",
    "    fiyatlar[urun] = fiyat * 1.15\n",
    "\n",
    "print(fiyatlar)"
   ]
  },
  {
   "cell_type": "code",
   "execution_count": 20,
   "id": "f982fb16-9f2b-44e9-96b4-a83d32e14a63",
   "metadata": {},
   "outputs": [
    {
     "name": "stdout",
     "output_type": "stream",
     "text": [
      "ProjeX\n",
      "ProjeZ\n"
     ]
    }
   ],
   "source": [
    "projeler = {\n",
    "    \"ProjeX\": {\"durum\": \"aktif\", \"süre\": 3},\n",
    "    \"ProjeY\": {\"durum\": \"tamamlandı\", \"süre\": 6},\n",
    "    \"ProjeZ\": {\"durum\": \"aktif\", \"süre\": 2}\n",
    "}\n",
    "\n",
    "# \"aktif\" olan projeleri listele\n",
    "for proje, bilgiler in projeler.items():\n",
    "    if bilgiler[\"durum\"] == \"aktif\":\n",
    "        print(proje)\n"
   ]
  },
  {
   "cell_type": "code",
   "execution_count": null,
   "id": "53202e97-c919-4c73-b2b7-e776265f4b69",
   "metadata": {},
   "outputs": [],
   "source": []
  }
 ],
 "metadata": {
  "kernelspec": {
   "display_name": "Python [conda env:base] *",
   "language": "python",
   "name": "conda-base-py"
  },
  "language_info": {
   "codemirror_mode": {
    "name": "ipython",
    "version": 3
   },
   "file_extension": ".py",
   "mimetype": "text/x-python",
   "name": "python",
   "nbconvert_exporter": "python",
   "pygments_lexer": "ipython3",
   "version": "3.12.7"
  }
 },
 "nbformat": 4,
 "nbformat_minor": 5
}
