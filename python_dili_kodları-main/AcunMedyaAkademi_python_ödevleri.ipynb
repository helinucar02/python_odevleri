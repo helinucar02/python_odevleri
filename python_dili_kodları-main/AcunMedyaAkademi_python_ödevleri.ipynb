{
 "cells": [
  {
   "cell_type": "code",
   "execution_count": 3,
   "id": "d84ba16c-a895-4961-9135-77cbef4624d8",
   "metadata": {},
   "outputs": [
    {
     "name": "stdout",
     "output_type": "stream",
     "text": [
      "Hello \n"
     ]
    }
   ],
   "source": [
    "print(\"Hello \")"
   ]
  },
  {
   "cell_type": "code",
   "execution_count": 18,
   "id": "74bf2625-8475-450e-a1be-46c45ce2dab6",
   "metadata": {},
   "outputs": [
    {
     "name": "stdin",
     "output_type": "stream",
     "text": [
      "sayıyı giriniz: 5\n",
      "sayıyı giriniz: 6\n"
     ]
    },
    {
     "name": "stdout",
     "output_type": "stream",
     "text": [
      "11\n"
     ]
    }
   ],
   "source": [
    "a=int(input(\"sayıyı giriniz:\"))\n",
    "b=int(input(\"sayıyı giriniz:\"))\n",
    "print (a+b)"
   ]
  },
  {
   "cell_type": "code",
   "execution_count": 26,
   "id": "49e06e83-ac00-4fe5-b3d8-63e1d6dadb8b",
   "metadata": {},
   "outputs": [
    {
     "name": "stdin",
     "output_type": "stream",
     "text": [
      "Sayıyı girin: 0\n"
     ]
    },
    {
     "name": "stdout",
     "output_type": "stream",
     "text": [
      "Sayı sıfırdır.\n"
     ]
    }
   ],
   "source": [
    "a=int(input(\"Sayıyı girin:\"))\n",
    "if a <0 :\n",
    "    print(\"Sayı negatiftir.\")\n",
    "elif a>0: \n",
    "    print(\"Sayı pozitiftir.\")\n",
    "else :\n",
    "    print(\"Sayı sıfırdır.\")\n"
   ]
  },
  {
   "cell_type": "code",
   "execution_count": 43,
   "id": "79140c73-ca42-4257-a098-4096edcb3356",
   "metadata": {
    "editable": true,
    "slideshow": {
     "slide_type": ""
    },
    "tags": []
   },
   "outputs": [
    {
     "name": "stdin",
     "output_type": "stream",
     "text": [
      "sayıyı giriniz: 12\n",
      "sayıyı giriniz: 13\n",
      "sayıyı giriniz: 11\n"
     ]
    },
    {
     "name": "stdout",
     "output_type": "stream",
     "text": [
      "13  en büyük sayıdır.\n"
     ]
    }
   ],
   "source": [
    "a=int(input(\"sayıyı giriniz:\"))\n",
    "b=int(input(\"sayıyı giriniz:\"))\n",
    "c=int(input(\"sayıyı giriniz:\"))\n",
    "if a>b:\n",
    "   if a>c:\n",
    "        print(a,\" en büyük sayıdır.\")\n",
    "   else:\n",
    "       print(c,\" en büyük sayıdır.\")\n",
    "elif b>c:\n",
    "    print(b,\" en büyük sayıdır.\")\n",
    "else:\n",
    "    print(c,\" en büyük sayıdır.\") \n",
    "         \n"
   ]
  },
  {
   "cell_type": "code",
   "execution_count": 57,
   "id": "2444217e-b8a2-4712-942c-ff8d4993e334",
   "metadata": {},
   "outputs": [
    {
     "name": "stdin",
     "output_type": "stream",
     "text": [
      "sayıyı giriniz: 133\n"
     ]
    },
    {
     "name": "stdout",
     "output_type": "stream",
     "text": [
      "Sayı tektir.\n"
     ]
    }
   ],
   "source": [
    "a=int(input(\"sayıyı giriniz:\"))\n",
    "if a%2==0:\n",
    "    print(\"Sayı çifttir.\")\n",
    "else:\n",
    "    print(\"Sayı tektir.\")\n"
   ]
  },
  {
   "cell_type": "code",
   "execution_count": 65,
   "id": "5bbe5014-e12b-40d4-99b8-20e595de130d",
   "metadata": {},
   "outputs": [
    {
     "name": "stdin",
     "output_type": "stream",
     "text": [
      "1 ile 7 arası sayıyı giriniz: 6\n"
     ]
    },
    {
     "name": "stdout",
     "output_type": "stream",
     "text": [
      "6 . gün cumartesidir.\n"
     ]
    }
   ],
   "source": [
    "gun=int(input(\"1 ile 7 arası sayıyı giriniz:\"))\n",
    "match gun:\n",
    "    case 1:\n",
    "        print(gun,\". gün pazartesidir.\")\n",
    "    case 2:\n",
    "         print(gun,\". gün salıdır.\") \n",
    "    case 3:\n",
    "        print(gun,\". gün çarşambadır.\")\n",
    "    case 4:\n",
    "        print(gun,\". gün perşembedir.\")\n",
    "    case 5:\n",
    "        print(gun,\". gün cumadır.\")\n",
    "    case 6:\n",
    "        print(gun,\". gün cumartesidir.\")\n",
    "    case 7:\n",
    "        print(gun,\". gün pazardır.\")\n",
    "    case _:\n",
    "        print(\"Geçersiz sayı.\")\n",
    "        \n",
    "    "
   ]
  },
  {
   "cell_type": "code",
   "execution_count": 76,
   "id": "83bfd1c6-22d0-49f4-91e0-ffccd266843d",
   "metadata": {},
   "outputs": [
    {
     "name": "stdin",
     "output_type": "stream",
     "text": [
      "sayıyı giriniz: 7\n",
      "sayıyı giriniz: 0\n",
      "İşlemi giriniz: /\n"
     ]
    },
    {
     "name": "stdout",
     "output_type": "stream",
     "text": [
      "Tanımsızdır.\n"
     ]
    }
   ],
   "source": [
    "a=int(input(\"sayıyı giriniz:\"))\n",
    "b=int(input(\"sayıyı giriniz:\"))\n",
    "islem=(input(\"İşlemi giriniz:\"))\n",
    "match islem:\n",
    "    case '+':\n",
    "        print(\"Toplamı:\",a+b)\n",
    "    case '-':\n",
    "        print(\"farkı:\",a-b)\n",
    "    case '*':\n",
    "        print(\"Çarpımı:\",a*b)\n",
    "    case '/':\n",
    "        if b!=0:\n",
    "            print(\"Bölümü:\",a/b)\n",
    "        else:\n",
    "            print(\"Tanımsızdır.\")\n",
    "    case _:\n",
    "        print(\"Geçersiz İşlem.\")\n",
    "    "
   ]
  },
  {
   "cell_type": "code",
   "execution_count": 107,
   "id": "2725d1c4-572c-44b4-b237-d8eec972fbb1",
   "metadata": {},
   "outputs": [
    {
     "name": "stdin",
     "output_type": "stream",
     "text": [
      " n sayısını giriniz: 5\n"
     ]
    },
    {
     "name": "stdout",
     "output_type": "stream",
     "text": [
      "Sayıların toplamı: 15\n"
     ]
    }
   ],
   "source": [
    "n=int(input(\" n sayısını giriniz:\"))\n",
    "toplam=0 \n",
    "for i in range(1,n+1): \n",
    "    toplam+=i \n",
    "print(\"Sayıların toplamı:\",toplam)"
   ]
  },
  {
   "cell_type": "code",
   "execution_count": 123,
   "id": "eb157092-e384-4b74-88bb-a1fc328f11bb",
   "metadata": {},
   "outputs": [
    {
     "name": "stdin",
     "output_type": "stream",
     "text": [
      "sayıyı giriniz: 2\n"
     ]
    },
    {
     "name": "stdout",
     "output_type": "stream",
     "text": [
      "1 * 1 = 1\n",
      "1 * 2 = 2\n",
      "1 * 3 = 3\n",
      "1 * 4 = 4\n",
      "1 * 5 = 5\n",
      "1 * 6 = 6\n",
      "1 * 7 = 7\n",
      "1 * 8 = 8\n",
      "1 * 9 = 9\n",
      "1 * 10 = 10\n",
      "2 * 1 = 2\n",
      "2 * 2 = 4\n",
      "2 * 3 = 6\n",
      "2 * 4 = 8\n",
      "2 * 5 = 10\n",
      "2 * 6 = 12\n",
      "2 * 7 = 14\n",
      "2 * 8 = 16\n",
      "2 * 9 = 18\n",
      "2 * 10 = 20\n"
     ]
    }
   ],
   "source": [
    "a=int(input(\"sayıyı giriniz:\"))\n",
    "carpım=1\n",
    "for i in range(1,a+1):\n",
    "    for j in range(1,11):\n",
    "        print(i,\"*\",j,\"=\",i*j)"
   ]
  },
  {
   "cell_type": "code",
   "execution_count": 131,
   "id": "921001d2-5510-4edf-9e2a-1dd72de1785d",
   "metadata": {},
   "outputs": [
    {
     "name": "stdin",
     "output_type": "stream",
     "text": [
      "sayıyı giriniz: 6\n",
      "sayıyı giriniz: 7\n",
      "sayıyı giriniz: 8\n",
      "sayıyı giriniz: 9\n",
      "sayıyı giriniz: 10\n"
     ]
    },
    {
     "name": "stdout",
     "output_type": "stream",
     "text": [
      "Ortalama: 8.0\n"
     ]
    }
   ],
   "source": [
    "toplam=0\n",
    "for i in range(1,6):\n",
    "    sayi=int(input(\"sayıyı giriniz:\"))\n",
    "    toplam+=sayi\n",
    "print(\"Ortalama:\",toplam/5)"
   ]
  },
  {
   "cell_type": "code",
   "execution_count": 164,
   "id": "2132c629-8e60-4966-894c-0d09223c1467",
   "metadata": {},
   "outputs": [
    {
     "name": "stdin",
     "output_type": "stream",
     "text": [
      "sayıyı giriniz: 5\n"
     ]
    },
    {
     "name": "stdout",
     "output_type": "stream",
     "text": [
      "Faktöriyeli: 120\n"
     ]
    }
   ],
   "source": [
    "faktöriyel=1\n",
    "sayi=int(input(\"sayıyı giriniz:\"))\n",
    "for i in range(1,sayi+1):\n",
    "    faktöriyel*=i\n",
    "print(\"Faktöriyeli:\",faktöriyel)"
   ]
  },
  {
   "cell_type": "code",
   "execution_count": 187,
   "id": "fe9ac222-a079-4563-8c54-4bcf392788c5",
   "metadata": {},
   "outputs": [
    {
     "name": "stdin",
     "output_type": "stream",
     "text": [
      "sayıyı giriniz: 123456789\n"
     ]
    },
    {
     "name": "stdout",
     "output_type": "stream",
     "text": [
      "Sayının düz hali: 123456789\n",
      "Sayının ters hali: 987654321\n"
     ]
    }
   ],
   "source": [
    "sayi=(input(\"sayıyı giriniz:\"))\n",
    "print(\"Sayının düz hali:\",sayi)\n",
    "i=len(sayi)-1\n",
    "tersHali=\"\"\n",
    "while i>=0:\n",
    "    tersHali+=sayi[i]\n",
    "    i-=1\n",
    "print(\"Sayının ters hali:\",tersHali)    "
   ]
  },
  {
   "cell_type": "code",
   "execution_count": 195,
   "id": "6f249cc3-2fa0-4e50-9d63-3624466f8ce2",
   "metadata": {},
   "outputs": [
    {
     "name": "stdout",
     "output_type": "stream",
     "text": [
      "Çift sayıların toplamı: 2550\n"
     ]
    }
   ],
   "source": [
    "toplam=0\n",
    "for i in range(1,101):\n",
    "    if i%2==0:\n",
    "        toplam+=i\n",
    "    else:\n",
    "        i+=1\n",
    "print(\"Çift sayıların toplamı:\",toplam)\n",
    "        \n"
   ]
  },
  {
   "cell_type": "code",
   "execution_count": 197,
   "id": "c08f2327-5e7b-4acb-a8fc-8d2e7c9e4fb7",
   "metadata": {},
   "outputs": [
    {
     "name": "stdout",
     "output_type": "stream",
     "text": [
      "tek sayıların çarpımı: 945\n"
     ]
    }
   ],
   "source": [
    "carpım=1\n",
    "for i in range(1,10):\n",
    "    if i%2==1:\n",
    "        carpım*=i\n",
    "    else:\n",
    "        i+=1\n",
    "print(\"tek sayıların çarpımı:\",carpım)"
   ]
  },
  {
   "cell_type": "code",
   "execution_count": 203,
   "id": "a2406d2e-c8a3-4d96-8696-8b72663c011c",
   "metadata": {},
   "outputs": [
    {
     "name": "stdout",
     "output_type": "stream",
     "text": [
      "1 nin karesi: 1\n",
      "2 nin karesi: 4\n",
      "3 nin karesi: 9\n",
      "4 nin karesi: 16\n",
      "5 nin karesi: 25\n",
      "6 nin karesi: 36\n",
      "7 nin karesi: 49\n",
      "8 nin karesi: 64\n",
      "9 nin karesi: 81\n",
      "10 nin karesi: 100\n"
     ]
    }
   ],
   "source": [
    "for i in range(1,11):\n",
    "    kareler=i*i\n",
    "    print(i,\"nin karesi:\",kareler)"
   ]
  },
  {
   "cell_type": "code",
   "execution_count": 215,
   "id": "11974a70-fde9-4f49-8100-b749e213cc40",
   "metadata": {},
   "outputs": [
    {
     "name": "stdin",
     "output_type": "stream",
     "text": [
      "sifreyi  giriniz: python123\n"
     ]
    },
    {
     "name": "stdout",
     "output_type": "stream",
     "text": [
      "Giriş başarılıdır.\n"
     ]
    }
   ],
   "source": [
    "sifre=\"python123\"\n",
    "sifre2=(input(\"sifreyi  giriniz:\"))\n",
    "if sifre2==sifre:\n",
    "    print(\"Giriş başarılıdır.\")\n",
    "else:\n",
    "    print(\"Giriş başarısızdır.\")"
   ]
  },
  {
   "cell_type": "code",
   "execution_count": 225,
   "id": "296c21bd-e14b-4b28-a672-9544b96312a0",
   "metadata": {},
   "outputs": [
    {
     "name": "stdin",
     "output_type": "stream",
     "text": [
      "yaşınızı giriniz: 19\n"
     ]
    },
    {
     "name": "stdout",
     "output_type": "stream",
     "text": [
      "Yaşınız gereği reşit olarak kabul edilmektesiniz.\n"
     ]
    }
   ],
   "source": [
    "yas=int(input(\"yaşınızı giriniz:\"))\n",
    "if yas>=18:\n",
    "    print(\"Yaşınız gereği reşit olarak kabul edilmektesiniz.\")\n",
    "else:\n",
    "    print(\"Yaşınız gereği reşit olarak kabul edilmemektesiniz.\")"
   ]
  },
  {
   "cell_type": "code",
   "execution_count": 239,
   "id": "fbc90f60-7a5c-4a08-8c82-60396cc7ad7d",
   "metadata": {},
   "outputs": [
    {
     "name": "stdin",
     "output_type": "stream",
     "text": [
      "vize1 notunu giriniz: 50\n",
      "vize2 notunu giriniz: 60\n",
      "final notunu giriniz: 70\n"
     ]
    },
    {
     "name": "stdout",
     "output_type": "stream",
     "text": [
      "Ortalama: 60.0  ile Geçti\n"
     ]
    }
   ],
   "source": [
    "vize1=int(input(\"vize1 notunu giriniz:\"))\n",
    "vize2=int(input(\"vize2 notunu giriniz:\"))\n",
    "final=int(input(\"final notunu giriniz:\"))\n",
    "ortalama=(vize1+vize2+final)/3\n",
    "if ortalama>=50:\n",
    "    print(\"Ortalama:\",ortalama,\" ile Geçti\")\n",
    "else:\n",
    "    print(\"Ortalama:\",ortalama,\" ile Kaldı\")\n"
   ]
  },
  {
   "cell_type": "code",
   "execution_count": 2,
   "id": "5d9bbc64-96de-41d8-a97b-20dc869efc66",
   "metadata": {},
   "outputs": [
    {
     "name": "stdin",
     "output_type": "stream",
     "text": [
      " kilonuzu giriniz: 50\n",
      " boyunuzu giriniz: 164\n"
     ]
    },
    {
     "name": "stdout",
     "output_type": "stream",
     "text": [
      "18.590124925639504  değeri ile normaldir\n"
     ]
    }
   ],
   "source": [
    "kilo=int(input(\" kilonuzu giriniz:\"))\n",
    "boy=int(input(\" boyunuzu giriniz:\"))\n",
    "VKD=(kilo)/(boy/100)**2\n",
    "if VKD>25:\n",
    "    print(VKD,\" değeri ile fazla kiloludur\")\n",
    "elif VKD<18:\n",
    "    print(VKD,\" değeri ile zayıftır\")\n",
    "else:\n",
    "    print(VKD,\" değeri ile normaldir\")\n",
    "    "
   ]
  },
  {
   "cell_type": "code",
   "execution_count": 22,
   "id": "e8c4f906-0f9c-44d7-8c33-0d5c988d5f93",
   "metadata": {},
   "outputs": [
    {
     "name": "stdin",
     "output_type": "stream",
     "text": [
      "Sayıyı giriniz:  100\n",
      "Sayıyı giriniz:  4\n",
      "İşlemi giriniz: b\n"
     ]
    },
    {
     "name": "stdout",
     "output_type": "stream",
     "text": [
      "Bölme işlemi sonucu: 25.0\n"
     ]
    }
   ],
   "source": [
    "a = int(input(\"Sayıyı giriniz: \"))\n",
    "b = int(input(\"Sayıyı giriniz: \"))\n",
    "\n",
    "toplama = a + b\n",
    "cikarma = a - b\n",
    "carpma = a * b\n",
    "bölme = a / b\n",
    "islem=(input(\"İşlemi giriniz:\"))\n",
    "match islem:\n",
    "    case 'T'|'t':\n",
    "        print(\"Toplama işlemi sonucu:\",toplama)\n",
    "    case 'C'|'c':\n",
    "        print(\"Çıkarma işlemi sonucu:\",cikarma)\n",
    "    case 'Ca'|'ca':\n",
    "        print(\"Çarpma işlemi sonucu:\",carpma)\n",
    "    case 'B'|'b' :\n",
    "        if b!=0:\n",
    "            print(\"Bölme işlemi sonucu:\",bölme)\n",
    "        else:\n",
    "            print(\"bölme işlemi sonucu Tanımsızdır.\")\n",
    "    case _:\n",
    "        print(\"Geçersiz işlem \")\n"
   ]
  },
  {
   "cell_type": "code",
   "execution_count": 48,
   "id": "08fbd08f-4a45-45f6-98df-95a8ab4d8f02",
   "metadata": {},
   "outputs": [
    {
     "name": "stdin",
     "output_type": "stream",
     "text": [
      "1.Sayıyı giriniz:  3\n",
      "2.Sayıyı giriniz:  6\n",
      "3.Sayıyı giriniz:  1\n",
      "4.Sayıyı giriniz:  2\n"
     ]
    },
    {
     "name": "stdout",
     "output_type": "stream",
     "text": [
      "En küçük sayı: 1\n"
     ]
    }
   ],
   "source": [
    "a = int(input(\"1.Sayıyı giriniz: \"))\n",
    "b = int(input(\"2.Sayıyı giriniz: \"))\n",
    "c = int(input(\"3.Sayıyı giriniz: \"))\n",
    "d = int(input(\"4.Sayıyı giriniz: \"))\n",
    "en_kücük=a\n",
    "if b< en_kücük:\n",
    "    en_kücük=b\n",
    "if c< en_kücük:\n",
    "    en_kücük=c\n",
    "if d< en_kücük:\n",
    "    en_kücük=d\n",
    "print(\"En küçük sayı:\",en_kücük)\n",
    "    "
   ]
  },
  {
   "cell_type": "code",
   "execution_count": 52,
   "id": "c4afccfe-bebf-4ea6-8f8a-2ee3c2f29804",
   "metadata": {},
   "outputs": [
    {
     "name": "stdin",
     "output_type": "stream",
     "text": [
      "1.Sayıyı giriniz:  8\n",
      "2.Sayıyı giriniz:  3\n",
      "3.Sayıyı giriniz:  6\n"
     ]
    },
    {
     "name": "stdout",
     "output_type": "stream",
     "text": [
      "küçükten büyüğe sıralama: 3 6 8\n"
     ]
    }
   ],
   "source": [
    "a = int(input(\"1.Sayıyı giriniz: \"))\n",
    "b = int(input(\"2.Sayıyı giriniz: \"))\n",
    "c = int(input(\"3.Sayıyı giriniz: \"))\n",
    "\n",
    "if a>=b or a>=c:\n",
    "    en_büyük=a\n",
    "    if b>=c:\n",
    "        ortanca=b\n",
    "        en_kücük=c\n",
    "    else:\n",
    "        ortanca=c\n",
    "        en_kücük=b\n",
    "        \n",
    "elif  b>=c or b>=a:\n",
    "    en_büyük=b\n",
    "    if a>=c: \n",
    "        ortanca=c\n",
    "        en_kücük=a\n",
    "    else:\n",
    "        ortanca=a\n",
    "        en_kücük=b\n",
    "        \n",
    "elif  c>=b or c>=a:\n",
    "    en_büyük=c\n",
    "    if a>=b: \n",
    "        ortanca=a\n",
    "        en_kücük=b\n",
    "    else:\n",
    "        ortanca=b\n",
    "        en_kücük=a       \n",
    "\n",
    "print(\"küçükten büyüğe sıralama:\",en_kücük,ortanca,en_büyük)\n",
    "\n",
    "\n",
    "\n",
    "    \n",
    "\n"
   ]
  },
  {
   "cell_type": "code",
   "execution_count": 56,
   "id": "8d3ec9cd-1764-4fad-b57b-285e7af97b3f",
   "metadata": {},
   "outputs": [
    {
     "name": "stdin",
     "output_type": "stream",
     "text": [
      " n sayısını giriniz: 10\n"
     ]
    },
    {
     "name": "stdout",
     "output_type": "stream",
     "text": [
      "Sayıların toplamı: 55\n"
     ]
    }
   ],
   "source": [
    "n=int(input(\" n sayısını giriniz:\"))\n",
    "toplam=0\n",
    "i=1\n",
    "while i<n+1: \n",
    "    toplam+=i\n",
    "    i=i+1\n",
    "print(\"Sayıların toplamı:\",toplam)"
   ]
  },
  {
   "cell_type": "code",
   "execution_count": 58,
   "id": "2087b2cf-c709-495c-99a5-585f109f4e6b",
   "metadata": {},
   "outputs": [
    {
     "name": "stdout",
     "output_type": "stream",
     "text": [
      "Carpim: 120\n"
     ]
    }
   ],
   "source": [
    "carpim=1\n",
    "for i in range(1,6):\n",
    "    carpim*=i\n",
    "\n",
    "print(\"Carpim:\",carpim)\n"
   ]
  },
  {
   "cell_type": "code",
   "execution_count": 64,
   "id": "f98f3d22-99bb-4817-ac15-cce36b2e17af",
   "metadata": {},
   "outputs": [
    {
     "name": "stdout",
     "output_type": "stream",
     "text": [
      "kareler toplamı: 385\n"
     ]
    }
   ],
   "source": [
    "kareler_toplami=0\n",
    "for i in range(1,11):\n",
    "    kareler=i*i\n",
    "    kareler_toplami+=kareler\n",
    "    \n",
    "print(\"kareler toplamı:\", kareler_toplami)"
   ]
  },
  {
   "cell_type": "code",
   "execution_count": 66,
   "id": "502e1987-487a-4fdb-97e1-89b13577e93c",
   "metadata": {},
   "outputs": [
    {
     "name": "stdin",
     "output_type": "stream",
     "text": [
      " n sayısını giriniz: 4\n"
     ]
    },
    {
     "name": "stdout",
     "output_type": "stream",
     "text": [
      "Küpler toplamı: 100\n"
     ]
    }
   ],
   "source": [
    "n=int(input(\" n sayısını giriniz:\"))\n",
    "küpler_toplami=0\n",
    "for i in range(1,n+1):\n",
    "    sayi_küpleri=i**3\n",
    "    küpler_toplami+=sayi_küpleri\n",
    "\n",
    "print(\"Küpler toplamı:\",küpler_toplami)\n",
    "    \n"
   ]
  },
  {
   "cell_type": "code",
   "execution_count": 78,
   "id": "f29fb942-73c3-47eb-8a15-92be29a51b83",
   "metadata": {},
   "outputs": [
    {
     "name": "stdin",
     "output_type": "stream",
     "text": [
      " 100lük sistemde notunuzu giriniz: 69\n"
     ]
    },
    {
     "name": "stdout",
     "output_type": "stream",
     "text": [
      "69 puan ile  harf notunuz: D\n"
     ]
    }
   ],
   "source": [
    "puan=int(input(\" 100lük sistemde notunuzu giriniz:\"))\n",
    "if puan>=90 and puan<=100:\n",
    "    puan_harfi='A'\n",
    "    print( puan,\"puan ile\", \" harf notunuz:\",puan_harfi)\n",
    "elif puan>=80 and puan<90:\n",
    "    puan_harfi='B'\n",
    "    print( puan,\"puan ile\", \" harf notunuz:\",puan_harfi)\n",
    "elif puan>=70 and puan<80:\n",
    "    puan_harfi='C'\n",
    "    print( puan,\"puan ile\", \" harf notunuz:\",puan_harfi)\n",
    "elif puan>=60 and puan<70:\n",
    "    puan_harfi='D'\n",
    "    print( puan,\"puan ile\", \" harf notunuz:\",puan_harfi)\n",
    "elif puan>=0 and puan<60:\n",
    "    puan_harfi='F'\n",
    "    print( puan,\"puan ile\", \" harf notunuz:\",puan_harfi)\n",
    "else:\n",
    "    print(\"Geçersiz puan\")"
   ]
  },
  {
   "cell_type": "code",
   "execution_count": 4,
   "id": "f9b379c1-5c93-4c77-a584-a89581a9ff4e",
   "metadata": {},
   "outputs": [
    {
     "name": "stdin",
     "output_type": "stream",
     "text": [
      "Lütfen tahmin edilmesini istediğiniz 1 ile 100 arasında bir sayı girin:  5\n",
      "1 ile 100 arasında bir sayı tahmin edin:  6\n"
     ]
    },
    {
     "name": "stdout",
     "output_type": "stream",
     "text": [
      "Daha küçük bir sayı girin!\n"
     ]
    },
    {
     "name": "stdin",
     "output_type": "stream",
     "text": [
      "1 ile 100 arasında bir sayı tahmin edin:  4\n"
     ]
    },
    {
     "name": "stdout",
     "output_type": "stream",
     "text": [
      "Daha büyük bir sayı girin!\n"
     ]
    },
    {
     "name": "stdin",
     "output_type": "stream",
     "text": [
      "1 ile 100 arasında bir sayı tahmin edin:  5\n"
     ]
    },
    {
     "name": "stdout",
     "output_type": "stream",
     "text": [
      "Tebrikler! 5 sayısını doğru tahmin ettiniz \n"
     ]
    }
   ],
   "source": [
    "\n",
    "sayi = int(input(\"Lütfen tahmin edilmesini istediğiniz 1 ile 100 arasında bir sayı girin: \"))\n",
    "\n",
    "while True:\n",
    "    tahmin = int(input(\"1 ile 100 arasında bir sayı tahmin edin: \"))\n",
    "    \n",
    "    if tahmin < sayi:\n",
    "        print(\"Daha büyük bir sayı girin!\")\n",
    "    elif tahmin > sayi:\n",
    "        print(\"Daha küçük bir sayı girin!\")\n",
    "    else:\n",
    "        print(f\"Tebrikler! {sayi} sayısını doğru tahmin ettiniz \")\n",
    "        break  # Doğru tahmin yapılınca oyunu bitir"
   ]
  },
  {
   "cell_type": "code",
   "execution_count": 6,
   "id": "c0a8ef9c-3f55-41c4-9b34-b73a6fef6cbd",
   "metadata": {},
   "outputs": [
    {
     "name": "stdout",
     "output_type": "stream",
     "text": [
      "Adet sayıları: 6 Sayılar: [15, 30, 45, 60, 75, 90]\n"
     ]
    }
   ],
   "source": [
    "sayilar=[]\n",
    "sayac=0\n",
    "for number in range(1,101):\n",
    "    if number%3==0 and number%5==0:\n",
    "        sayac+=1\n",
    "        sayilar.append(number)\n",
    "print(\"Adet sayıları:\",sayac,\"Sayılar:\",sayilar)"
   ]
  },
  {
   "cell_type": "code",
   "execution_count": 8,
   "id": "e65f62e5-179c-4885-b8da-c148e3613e0b",
   "metadata": {},
   "outputs": [
    {
     "name": "stdin",
     "output_type": "stream",
     "text": [
      " 1.sayıyı giriniz: 13\n",
      " 2.sayıyı giriniz: 45\n",
      " 3.sayıyı giriniz: 13\n"
     ]
    },
    {
     "name": "stdout",
     "output_type": "stream",
     "text": [
      "İki sayi eşittir\n"
     ]
    }
   ],
   "source": [
    "a=int(input(\" 1.sayıyı giriniz:\"))\n",
    "b=int(input(\" 2.sayıyı giriniz:\"))\n",
    "c=int(input(\" 3.sayıyı giriniz:\"))\n",
    "\n",
    "if a==b==c:\n",
    "    print(\"Tüm sayilar eşittir\")\n",
    "elif a==b or b==c or a==c :\n",
    "    print(\"İki sayi eşittir\")\n",
    "else:\n",
    "    print(\"Hiçbiri eşit değildir.\")"
   ]
  },
  {
   "cell_type": "code",
   "execution_count": 10,
   "id": "a2cff954-9ac9-4698-8b68-5bb69983b81e",
   "metadata": {},
   "outputs": [
    {
     "name": "stdin",
     "output_type": "stream",
     "text": [
      " Yili giriniz: 200\n"
     ]
    },
    {
     "name": "stdout",
     "output_type": "stream",
     "text": [
      "Girdiğiniz yıl artık yıl değildir.\n"
     ]
    }
   ],
   "source": [
    "yil=int(input(\" Yili giriniz:\"))\n",
    "if (yil%4==0 and yil%100!=0) or (yil%400)==0:\n",
    "    print(\"Girdiğiniz yıl artık yıldır.\")\n",
    "else:\n",
    "   print(\"Girdiğiniz yıl artık yıl değildir.\") "
   ]
  },
  {
   "cell_type": "code",
   "execution_count": 12,
   "id": "3d697c0b-e814-4ace-adae-6bace301ffeb",
   "metadata": {},
   "outputs": [
    {
     "name": "stdin",
     "output_type": "stream",
     "text": [
      " kilonuzu giriniz: 55\n",
      " boyunuzu giriniz: 165\n"
     ]
    },
    {
     "name": "stdout",
     "output_type": "stream",
     "text": [
      "20.202020202020204  değeri ile normaldir\n"
     ]
    }
   ],
   "source": [
    "kilo=int(input(\" kilonuzu giriniz:\"))\n",
    "boy=int(input(\" boyunuzu giriniz:\"))\n",
    "BMI=(kilo)/(boy/100)**2\n",
    "if BMI<18.5:\n",
    "    print(BMI,\" değeri ile zayıftır\")\n",
    "elif BMI>=18.5 and BMI<25:\n",
    "    print(BMI,\" değeri ile normaldir\")\n",
    "elif BMI>=25 and BMI<30:\n",
    "    print(BMI,\" değeri ile fazla kiloludur\")\n",
    "elif BMI>=30:\n",
    "    print(BMI,\" değeri ile obezdir\")\n",
    "else:\n",
    "    print(\"Geçersiz değer\")"
   ]
  },
  {
   "cell_type": "code",
   "execution_count": 14,
   "id": "d5146052-cab9-4b36-8eeb-133a433f5479",
   "metadata": {},
   "outputs": [
    {
     "name": "stdin",
     "output_type": "stream",
     "text": [
      "Yaşınızı giriniz:  19\n"
     ]
    },
    {
     "name": "stdout",
     "output_type": "stream",
     "text": [
      "Bilet ücreti: 20 TL\n"
     ]
    }
   ],
   "source": [
    "yas = int(input(\"Yaşınızı giriniz: \"))\n",
    "\n",
    "if 0 <= yas <= 5:\n",
    "    print(\"Bilet ücreti: Ücretsiz\")\n",
    "elif 6 <= yas <= 18:\n",
    "    print(\"Bilet ücreti: 10 TL\")\n",
    "elif 19 <= yas <= 64:\n",
    "    print(\"Bilet ücreti: 20 TL\")\n",
    "elif yas >= 65:\n",
    "    print(\"Bilet ücreti: 15 TL\")\n",
    "else:\n",
    "    print(\"Geçersiz yaş girdiniz.\")"
   ]
  },
  {
   "cell_type": "code",
   "execution_count": 18,
   "id": "832e0cd7-eaab-47dc-b91a-6669ded574a6",
   "metadata": {},
   "outputs": [
    {
     "name": "stdin",
     "output_type": "stream",
     "text": [
      "Hava durumunu giriniz (güneşli, yağmurlu, karlı):  karlı\n",
      "Sıcaklığı giriniz (°C):  1\n"
     ]
    },
    {
     "name": "stdout",
     "output_type": "stream",
     "text": [
      "Evde kalabilirsiniz.\n"
     ]
    }
   ],
   "source": [
    "hava_durumu = input(\"Hava durumunu giriniz (güneşli, yağmurlu, karlı): \").lower()\n",
    "sicaklik = int(input(\"Sıcaklığı giriniz (°C): \"))\n",
    "\n",
    "if hava_durumu == \"güneşli\" and sicaklik >= 25:\n",
    "    print(\"Piknik yapabilirsiniz.\")\n",
    "elif hava_durumu == \"yağmurlu\":\n",
    "    print(\"Şemsiye almayı unutmayın.\")\n",
    "elif hava_durumu == \"karlı\" and sicaklik < 0:\n",
    "    print(\"Kayak yapmaya gidebilirsiniz.\")\n",
    "else:\n",
    "    print(\"Evde kalabilirsiniz.\")"
   ]
  },
  {
   "cell_type": "code",
   "execution_count": 20,
   "id": "6aba7ee6-3a15-4ca6-a1e9-6a326376193e",
   "metadata": {},
   "outputs": [
    {
     "name": "stdin",
     "output_type": "stream",
     "text": [
      "Bir tam sayı giriniz:  45\n"
     ]
    },
    {
     "name": "stdout",
     "output_type": "stream",
     "text": [
      "Pozitif\n"
     ]
    }
   ],
   "source": [
    "sayi = int(input(\"Bir tam sayı giriniz: \"))\n",
    "\n",
    "if sayi > 0:\n",
    "    print(\"Pozitif\")\n",
    "elif sayi < 0:\n",
    "    print(\"Negatif\")\n",
    "else:\n",
    "    print(\"Sıfır\")"
   ]
  },
  {
   "cell_type": "code",
   "execution_count": 22,
   "id": "b4e6148a-62f1-484b-82e8-7e845e0ef9b9",
   "metadata": {},
   "outputs": [
    {
     "name": "stdin",
     "output_type": "stream",
     "text": [
      "Bir sayı giriniz:  135\n"
     ]
    },
    {
     "name": "stdout",
     "output_type": "stream",
     "text": [
      "135 bir Armstrong sayısı değildir.\n"
     ]
    }
   ],
   "source": [
    "sayi = int(input(\"Bir sayı giriniz: \"))\n",
    "orjinal_sayi = sayi  # Sayıyı sakla\n",
    "toplam = 0\n",
    "\n",
    "basamak_sayisi = len(str(sayi))\n",
    "\n",
    "while sayi > 0:\n",
    "    basamak = sayi % 10  # Son basamağı al\n",
    "    toplam += basamak ** basamak_sayisi  # Üssünü hesapla ve ekle\n",
    "    sayi //= 10  # Bir basamak eksilt\n",
    "\n",
    "if toplam == orjinal_sayi:\n",
    "    print(f\"{orjinal_sayi} bir Armstrong sayısıdır.\")\n",
    "else:\n",
    "    print(f\"{orjinal_sayi} bir Armstrong sayısı değildir.\")"
   ]
  },
  {
   "cell_type": "code",
   "execution_count": 24,
   "id": "1e705655-40cd-40fb-a698-63a9b85321ff",
   "metadata": {},
   "outputs": [
    {
     "name": "stdin",
     "output_type": "stream",
     "text": [
      "Birinci sayıyı giriniz:  23\n",
      "İkinci sayıyı giriniz:  13\n"
     ]
    },
    {
     "name": "stdout",
     "output_type": "stream",
     "text": [
      "Birinci sayı büyük\n"
     ]
    }
   ],
   "source": [
    "sayi1 = int(input(\"Birinci sayıyı giriniz: \"))\n",
    "sayi2 = int(input(\"İkinci sayıyı giriniz: \"))\n",
    "\n",
    "if sayi1 > sayi2:\n",
    "    print(\"Birinci sayı büyük\")\n",
    "elif sayi1 < sayi2:\n",
    "    print(\"İkinci sayı büyük\")\n",
    "else:\n",
    "    print(\"Sayılar eşit\")"
   ]
  },
  {
   "cell_type": "code",
   "execution_count": 26,
   "id": "635534f9-7cbd-46d9-8b2e-5a7f93b4e7d0",
   "metadata": {},
   "outputs": [
    {
     "name": "stdin",
     "output_type": "stream",
     "text": [
      "Alışveriş tutarını giriniz:  300\n",
      "Üye misiniz? (üye/non-üye):  üye\n"
     ]
    },
    {
     "name": "stdout",
     "output_type": "stream",
     "text": [
      "İndirimli tutar: 270.00 TL\n"
     ]
    }
   ],
   "source": [
    "tutar = float(input(\"Alışveriş tutarını giriniz: \"))\n",
    "uyelik = input(\"Üye misiniz? (üye/non-üye): \").lower()\n",
    "\n",
    "if uyelik == \"üye\":\n",
    "    indirim_orani = 0.10  # %10 indirim\n",
    "else:\n",
    "    indirim_orani = 0.05  # %5 indirim\n",
    "\n",
    "indirimli_tutar = tutar - (tutar * indirim_orani)\n",
    "\n",
    "print(f\"İndirimli tutar: {indirimli_tutar:.2f} TL\")"
   ]
  },
  {
   "cell_type": "code",
   "execution_count": 28,
   "id": "5b23f325-0727-4982-a66f-127bde1d001f",
   "metadata": {},
   "outputs": [
    {
     "name": "stdin",
     "output_type": "stream",
     "text": [
      "Kaç Fibonacci terimi yazdırılsın?  5\n"
     ]
    },
    {
     "name": "stdout",
     "output_type": "stream",
     "text": [
      "1. terim: 0\n",
      "2. terim: 1\n",
      "3. terim: 1\n",
      "4. terim: 2\n",
      "5. terim: 3\n"
     ]
    }
   ],
   "source": [
    "N = int(input(\"Kaç Fibonacci terimi yazdırılsın? \"))\n",
    "\n",
    "a, b = 0, 1\n",
    "\n",
    "for i in range(N):\n",
    "    print(f\"{i+1}. terim: {a}\")  \n",
    "    a, b = b, a + b  "
   ]
  },
  {
   "cell_type": "code",
   "execution_count": null,
   "id": "441c3bac-f56d-4636-95e6-821b2742d751",
   "metadata": {},
   "outputs": [],
   "source": []
  }
 ],
 "metadata": {
  "kernelspec": {
   "display_name": "Python [conda env:base] *",
   "language": "python",
   "name": "conda-base-py"
  },
  "language_info": {
   "codemirror_mode": {
    "name": "ipython",
    "version": 3
   },
   "file_extension": ".py",
   "mimetype": "text/x-python",
   "name": "python",
   "nbconvert_exporter": "python",
   "pygments_lexer": "ipython3",
   "version": "3.12.7"
  }
 },
 "nbformat": 4,
 "nbformat_minor": 5
}
