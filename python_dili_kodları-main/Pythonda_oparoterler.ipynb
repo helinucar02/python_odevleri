{
 "cells": [
  {
   "cell_type": "code",
   "execution_count": 3,
   "id": "f3c34400-45cd-4fdc-937d-6a38669a6801",
   "metadata": {},
   "outputs": [
    {
     "name": "stdout",
     "output_type": "stream",
     "text": [
      "8\n",
      "11\n",
      "15\n",
      "25.84\n"
     ]
    }
   ],
   "source": [
    " print (5+3)\n",
    " print (5+3+3)\n",
    " sayi1=10\n",
    " print (sayi1+5)\n",
    " #Aynı şekilde değişken kullanarak da yapabiliriz.\n",
    " sayi2=10.34\n",
    " print (sayi1+sayi2+5.5) #farklı veri tiplerindeki sayıları ve değişkenleri de kullanabiliriz"
   ]
  },
  {
   "cell_type": "code",
   "execution_count": 5,
   "id": "d6b46ce1-ecf0-45c5-be80-01e07ba36fdc",
   "metadata": {},
   "outputs": [
    {
     "name": "stdout",
     "output_type": "stream",
     "text": [
      "Merhaba Mars\n",
      "Merhaba Mars nasılsın?\n"
     ]
    }
   ],
   "source": [
    " print ('Merhaba ' + 'Mars')\n",
    " metin1='Merhaba ' + 'Mars' + ' nasılsın?'\n",
    " print(metin1)"
   ]
  },
  {
   "cell_type": "code",
   "execution_count": 7,
   "id": "f6a6730f-1ead-4e85-91e1-3d35425016ea",
   "metadata": {},
   "outputs": [
    {
     "name": "stdout",
     "output_type": "stream",
     "text": [
      "2\n",
      "2\n",
      "-6\n"
     ]
    }
   ],
   "source": [
    " print(5-3)\n",
    " sayi1=5\n",
    " sayi2=3\n",
    " print(sayi1-sayi2)\n",
    " print (3-4-5)"
   ]
  },
  {
   "cell_type": "code",
   "execution_count": 9,
   "id": "d9c7034e-5e8d-4f43-aab4-e46598c5a90a",
   "metadata": {},
   "outputs": [
    {
     "name": "stdout",
     "output_type": "stream",
     "text": [
      "15\n",
      "30\n",
      "15\n"
     ]
    }
   ],
   "source": [
    " print(5*3)\n",
    " print(5*3*2)\n",
    " sayi1=5\n",
    " sayi2=3\n",
    " print(sayi1*sayi2)"
   ]
  },
  {
   "cell_type": "code",
   "execution_count": 11,
   "id": "d7003e48-5743-4d6f-9fda-bc8d65a9428c",
   "metadata": {},
   "outputs": [
    {
     "name": "stdout",
     "output_type": "stream",
     "text": [
      "BABABABABABABABABABABABABABABABABABABABA\n"
     ]
    }
   ],
   "source": [
    " print (20*'BA')"
   ]
  },
  {
   "cell_type": "code",
   "execution_count": 13,
   "id": "85d03942-d7fc-4818-848f-2f2d974198bd",
   "metadata": {},
   "outputs": [
    {
     "name": "stdout",
     "output_type": "stream",
     "text": [
      "1.6666666666666667\n"
     ]
    }
   ],
   "source": [
    " print (5/3)"
   ]
  },
  {
   "cell_type": "code",
   "execution_count": 15,
   "id": "e344f644-7c48-4620-beac-c16c615ebe3c",
   "metadata": {},
   "outputs": [
    {
     "name": "stdout",
     "output_type": "stream",
     "text": [
      "3.0\n"
     ]
    }
   ],
   "source": [
    " print(18/3/2)"
   ]
  },
  {
   "cell_type": "code",
   "execution_count": 17,
   "id": "9cf67ae3-2ade-4491-bd42-59cf83e5895c",
   "metadata": {},
   "outputs": [
    {
     "name": "stdout",
     "output_type": "stream",
     "text": [
      "125\n"
     ]
    }
   ],
   "source": [
    " print(5**3)"
   ]
  },
  {
   "cell_type": "code",
   "execution_count": 19,
   "id": "ccd8d454-7ebd-4a93-a5ee-d5d2139f79ca",
   "metadata": {},
   "outputs": [
    {
     "name": "stdout",
     "output_type": "stream",
     "text": [
      "7.0\n"
     ]
    }
   ],
   "source": [
    " print(49**(1/2))"
   ]
  },
  {
   "cell_type": "code",
   "execution_count": 21,
   "id": "40df5124-f390-4137-bb70-3d500073dc06",
   "metadata": {},
   "outputs": [
    {
     "name": "stdout",
     "output_type": "stream",
     "text": [
      "40.0\n"
     ]
    }
   ],
   "source": [
    " print (121.00//3)"
   ]
  },
  {
   "cell_type": "code",
   "execution_count": 23,
   "id": "f0c7031a-1610-458a-bd99-98ac7e3ff4a7",
   "metadata": {},
   "outputs": [
    {
     "name": "stdout",
     "output_type": "stream",
     "text": [
      "2\n",
      "1\n"
     ]
    }
   ],
   "source": [
    " print (5%3) #Sayının 3 ile bölümünden kalan.\n",
    " print (9%2) #Kalan 0 ise sayı çifttir."
   ]
  },
  {
   "cell_type": "code",
   "execution_count": 25,
   "id": "48180ff6-15a7-4887-8a73-0710c9e6c078",
   "metadata": {},
   "outputs": [
    {
     "name": "stdout",
     "output_type": "stream",
     "text": [
      "False\n",
      "False\n",
      "True\n"
     ]
    }
   ],
   "source": [
    " print(5==3)\n",
    " #değişkenlere atadığınız değerleri de aynı şekilde kontrol edebilirsiniz.\n",
    " sayi1=5\n",
    " sayi2=3\n",
    " print(sayi1==sayi2)\n",
    " print(sayi1==5)"
   ]
  },
  {
   "cell_type": "code",
   "execution_count": 29,
   "id": "65a480ab-bf41-4e06-869e-c5b4bc487078",
   "metadata": {},
   "outputs": [
    {
     "name": "stdout",
     "output_type": "stream",
     "text": [
      "False\n",
      "False\n",
      "True\n"
     ]
    }
   ],
   "source": [
    " # “==” Operatörü karakter dizilerinde de değerlerin eşitliğini kontrol etmek için kullanılır.\n",
    " print('Emre'=='emre')\n",
    " # Küçük büyük harf duyarlılığına (case sensetive) dikkat ediniz.\n",
    " metin1='Emre'\n",
    " metin2='emre'\n",
    " print(metin1==metin2)\n",
    " print(metin1=='Emre')"
   ]
  },
  {
   "cell_type": "code",
   "execution_count": 31,
   "id": "b0fa760c-0a0b-4d34-9255-299bc642d634",
   "metadata": {},
   "outputs": [
    {
     "name": "stdout",
     "output_type": "stream",
     "text": [
      "True\n",
      "True\n",
      "False\n"
     ]
    }
   ],
   "source": [
    " # “!=” operatörü iki değerin birbirinden farklı olup olmadığını anlamak için kullanılır. \n",
    " print(5!=3)\n",
    " sayi1=5\n",
    " sayi2=3\n",
    " print(sayi1!=sayi2)\n",
    " print(sayi1!=5)\n",
    " # Çıktıların == operatörünün tersi olduğuna dikkat ediniz."
   ]
  },
  {
   "cell_type": "code",
   "execution_count": 35,
   "id": "c734c1d7-72ef-4f4b-88fb-58ea520af788",
   "metadata": {},
   "outputs": [
    {
     "name": "stdout",
     "output_type": "stream",
     "text": [
      "True\n",
      "True\n",
      "False\n"
     ]
    }
   ],
   "source": [
    " # “!=” operatörü karakter dizilerinde de değerlerin farklılığını kontrol etmek için kullanılır.\n",
    " print('Emre'!='emre')\n",
    " # Küçük büyük harf duyarlılığına (case sensetive) dikkat ediniz.\n",
    " metin1='Emre'\n",
    " metin2='emre'\n",
    " print(metin1!=metin2)\n",
    " print(metin1!='Emre')"
   ]
  },
  {
   "cell_type": "code",
   "execution_count": 39,
   "id": "47250069-c4b0-49af-b5f7-1a40242480b7",
   "metadata": {},
   "outputs": [
    {
     "name": "stdout",
     "output_type": "stream",
     "text": [
      "False\n",
      "True\n",
      "False\n"
     ]
    }
   ],
   "source": [
    " sayi1=6.06\n",
    " sayi2=6.07\n",
    " print(sayi1>sayi2)\n",
    " sayi2=6\n",
    " print (sayi1>sayi2)\n",
    " sayi2=6.06\n",
    " print(sayi1>sayi2)"
   ]
  },
  {
   "cell_type": "code",
   "execution_count": 45,
   "id": "a146576b-f0e5-4a9f-99f8-2e9b0063adde",
   "metadata": {},
   "outputs": [
    {
     "name": "stdout",
     "output_type": "stream",
     "text": [
      "True\n",
      "True\n",
      "False\n",
      "True\n",
      "True\n",
      "False\n"
     ]
    }
   ],
   "source": [
    " sayi1=6.06\n",
    " sayi2=6.06\n",
    " print(sayi1>=sayi2)\n",
    " print (sayi1<=sayi2)\n",
    " #sayılar eşit olduğu için iki operatör de True değeri döndürür.\n",
    " sayi2=6.07\n",
    " print(sayi1>=sayi2)\n",
    " print(sayi1<=sayi2)\n",
    " #1.sayı 2. sayıdan küçük olduğu için sadece <= operatörü True değerini döndürür.\n",
    " sayi2=6.05\n",
    " print(sayi1>=sayi2)\n",
    " print(sayi1<=sayi2)\n",
    " #sayi2 değişkeni 6.05 olduğu ve sayi1 sayi2 den büyük olacağı için sadece >= operatörü True değeri döndürür."
   ]
  },
  {
   "cell_type": "code",
   "execution_count": 47,
   "id": "fa991e52-7057-46a9-a04a-f9a7e89a669f",
   "metadata": {},
   "outputs": [
    {
     "name": "stdout",
     "output_type": "stream",
     "text": [
      "True\n",
      "False\n"
     ]
    },
    {
     "name": "stderr",
     "output_type": "stream",
     "text": [
      "<>:2: SyntaxWarning: \"is\" with 'int' literal. Did you mean \"==\"?\n",
      "<>:3: SyntaxWarning: \"is not\" with 'int' literal. Did you mean \"!=\"?\n",
      "<>:2: SyntaxWarning: \"is\" with 'int' literal. Did you mean \"==\"?\n",
      "<>:3: SyntaxWarning: \"is not\" with 'int' literal. Did you mean \"!=\"?\n",
      "C:\\Users\\HELEN\\AppData\\Local\\Temp\\ipykernel_8936\\2742990538.py:2: SyntaxWarning: \"is\" with 'int' literal. Did you mean \"==\"?\n",
      "  print (sayi1  is 5)\n",
      "C:\\Users\\HELEN\\AppData\\Local\\Temp\\ipykernel_8936\\2742990538.py:3: SyntaxWarning: \"is not\" with 'int' literal. Did you mean \"!=\"?\n",
      "  print (sayi1 is not 5) #is operatörünün tersini verir.\n"
     ]
    }
   ],
   "source": [
    " sayi1=5\n",
    " print (sayi1  is 5)\n",
    " print (sayi1 is not 5) #is operatörünün tersini verir."
   ]
  },
  {
   "cell_type": "code",
   "execution_count": 49,
   "id": "12c87089-7ca2-408d-8b8b-1f0ecdeabe00",
   "metadata": {},
   "outputs": [
    {
     "name": "stdout",
     "output_type": "stream",
     "text": [
      "False\n",
      "True\n",
      "False\n"
     ]
    },
    {
     "name": "stderr",
     "output_type": "stream",
     "text": [
      "<>:1: SyntaxWarning: \"is\" with 'str' literal. Did you mean \"==\"?\n",
      "<>:4: SyntaxWarning: \"is\" with 'str' literal. Did you mean \"==\"?\n",
      "<>:5: SyntaxWarning: \"is not\" with 'str' literal. Did you mean \"!=\"?\n",
      "<>:1: SyntaxWarning: \"is\" with 'str' literal. Did you mean \"==\"?\n",
      "<>:4: SyntaxWarning: \"is\" with 'str' literal. Did you mean \"==\"?\n",
      "<>:5: SyntaxWarning: \"is not\" with 'str' literal. Did you mean \"!=\"?\n",
      "C:\\Users\\HELEN\\AppData\\Local\\Temp\\ipykernel_8936\\195005677.py:1: SyntaxWarning: \"is\" with 'str' literal. Did you mean \"==\"?\n",
      "  print ('elif' is 'Elif')\n",
      "C:\\Users\\HELEN\\AppData\\Local\\Temp\\ipykernel_8936\\195005677.py:4: SyntaxWarning: \"is\" with 'str' literal. Did you mean \"==\"?\n",
      "  print (adi is 'Elif')\n",
      "C:\\Users\\HELEN\\AppData\\Local\\Temp\\ipykernel_8936\\195005677.py:5: SyntaxWarning: \"is not\" with 'str' literal. Did you mean \"!=\"?\n",
      "  print (adi is not 'Elif') #is operatörünün tersini verir.\n"
     ]
    }
   ],
   "source": [
    " print ('elif' is 'Elif')\n",
    " #Yukarıdaki kod için büyük harf küçük harf duyarlılığını hatırlayınız.\n",
    " adi='Elif'\n",
    " print (adi is 'Elif')\n",
    " print (adi is not 'Elif') #is operatörünün tersini verir."
   ]
  },
  {
   "cell_type": "code",
   "execution_count": 51,
   "id": "6bd2b462-8ef8-4810-884b-2999ee8d5857",
   "metadata": {},
   "outputs": [
    {
     "name": "stdout",
     "output_type": "stream",
     "text": [
      "True\n",
      "False\n"
     ]
    }
   ],
   "source": [
    "a = [1, 2, 3]\n",
    "b = a\n",
    "print(a is b)  # True (Çünkü a ve b aynı nesneyi gösteriyor)\n",
    "\n",
    "c = [1, 2, 3]\n",
    "print(a is c)  # False (Çünkü c farklı bir nesne)\n"
   ]
  },
  {
   "cell_type": "code",
   "execution_count": 53,
   "id": "3f0e486e-d0ec-4e74-a0a9-7cf4f34288a3",
   "metadata": {},
   "outputs": [
    {
     "name": "stdout",
     "output_type": "stream",
     "text": [
      "True\n",
      "False\n"
     ]
    }
   ],
   "source": [
    " # in operatörü kullanımı\n",
    " print ('Bil' in 'Bilişim')\n",
    " # 2. karakter dizisi içinde 1. karakter dizisi var mı?\n",
    " print ('Bil' not in 'Bilişim')\n",
    " # in operatörünün tersi sonuç verir."
   ]
  },
  {
   "cell_type": "code",
   "execution_count": 55,
   "id": "ec7cdbe4-81c1-4a89-a4c6-09623e45d658",
   "metadata": {},
   "outputs": [
    {
     "name": "stdout",
     "output_type": "stream",
     "text": [
      "8\n",
      "Merhaba Mars\n"
     ]
    }
   ],
   "source": [
    " sayi1=5\n",
    " sayi1+=3\n",
    " print (sayi1)\n",
    " metin1='Merhaba '\n",
    " metin1+='Mars' #metin1=metin1+\"Mars\" koduyla aynı işlevi görür.\n",
    " print(metin1)"
   ]
  },
  {
   "cell_type": "code",
   "execution_count": 61,
   "id": "5de6c36c-e4a5-4fa4-b048-1c97ed1f4982",
   "metadata": {},
   "outputs": [
    {
     "name": "stdout",
     "output_type": "stream",
     "text": [
      "True\n",
      "True\n",
      "False\n",
      "True\n"
     ]
    }
   ],
   "source": [
    " sayi1=5\n",
    " #or operatörü kullanımı\n",
    " print (sayi1<6 or sayi1>10)\n",
    " adi='Elif'\n",
    " print (adi=='Elif' or adi=='Emre')\n",
    " #Adı Elif veya Emre ise True değerini döndürür.\n",
    " meslekUnvani='Mühendis'\n",
    " meslek=''\n",
    " print (meslekUnvani=='Öğretmen' or meslek=='Doktor')\n",
    " #Meslek ünvanı Öğretmen veya Doktor olmadığı için False döndürür.\n",
    " print (meslekUnvani=='Öğretmen' or meslekUnvani=='Doktor' or meslekUnvani=='Mühendis')\n",
    " #Meslek Ünvanı Öğretmen veya Doktor veya Mühendis'ten biri ise True değerini döndürür.\n",
    " # İkiden fazla koşul için de kullanılabilir."
   ]
  },
  {
   "cell_type": "code",
   "execution_count": 63,
   "id": "847b2c54-a566-4dab-9fbe-826627939782",
   "metadata": {},
   "outputs": [
    {
     "name": "stdout",
     "output_type": "stream",
     "text": [
      "False\n",
      "True\n",
      "True\n",
      "False\n"
     ]
    }
   ],
   "source": [
    " ogrenciDersPuani=50\n",
    " print (ogrenciDersPuani>50 and ogrenciDersPuani<60)\n",
    " adi='Emre'\n",
    " yasi=24\n",
    " print (adi=='Emre' and yasi>=20)\n",
    " #Adı Emre ve yaşı en az 20 ise True değerini döndürür.\n",
    " meslekUnvani='Mühendis'\n",
    " askerlikDurumu='Yaptı'\n",
    " isTecrubeYil=2\n",
    " print (meslekUnvani=='Mühendis' and askerlikDurumu=='Yaptı')\n",
    " print (meslekUnvani=='Mühendis' and askerlikDurumu=='Yaptı' and isTecrubeYil>=3)"
   ]
  },
  {
   "cell_type": "code",
   "execution_count": 65,
   "id": "ae4eccfd-c0e7-43c8-8d54-b212e01664a6",
   "metadata": {},
   "outputs": [
    {
     "name": "stdout",
     "output_type": "stream",
     "text": [
      "True\n",
      "True\n"
     ]
    }
   ],
   "source": [
    " ogrenciDersPuani=50\n",
    " print(not(ogrenciDersPuani<45))\n",
    " print (ogrenciDersPuani>45) #Yukarıdaki ifade ile aynı işlevi görür."
   ]
  },
  {
   "cell_type": "code",
   "execution_count": null,
   "id": "93eac55a-4a38-4542-8484-9f98718923f6",
   "metadata": {},
   "outputs": [],
   "source": []
  }
 ],
 "metadata": {
  "kernelspec": {
   "display_name": "Python [conda env:base] *",
   "language": "python",
   "name": "conda-base-py"
  },
  "language_info": {
   "codemirror_mode": {
    "name": "ipython",
    "version": 3
   },
   "file_extension": ".py",
   "mimetype": "text/x-python",
   "name": "python",
   "nbconvert_exporter": "python",
   "pygments_lexer": "ipython3",
   "version": "3.12.7"
  }
 },
 "nbformat": 4,
 "nbformat_minor": 5
}
